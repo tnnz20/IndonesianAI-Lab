{
 "cells": [
  {
   "cell_type": "markdown",
   "id": "1356c946",
   "metadata": {},
   "source": [
    "# Final - Project (Indonesia.AI)"
   ]
  },
  {
   "cell_type": "markdown",
   "id": "26e0cc98",
   "metadata": {},
   "source": [
    "## Deskripsi\n",
    "Sejak 2008, AirBnB hadir untuk mempertemukan penyedia tempat tinggal (host) dan traveler yang ingin merasakan pengalaman bepergian yang berbeda dari biasanya. AirBnB memungkinkan traveler tinggal di rumah orang lokal dengan harga yang terjangkau. Data yang tersedia disini meliputi aktivitas listing dan berbagai metriknya di Kota New York pada tahun 2019."
   ]
  },
  {
   "cell_type": "markdown",
   "id": "4e9f3950",
   "metadata": {},
   "source": [
    "### Library yang digunakan"
   ]
  },
  {
   "cell_type": "code",
   "execution_count": 204,
   "id": "76c8227e",
   "metadata": {},
   "outputs": [],
   "source": [
    "import numpy as np\n",
    "import pandas as pd\n",
    "import matplotlib.pyplot as plt"
   ]
  },
  {
   "cell_type": "markdown",
   "id": "da4d1e00",
   "metadata": {},
   "source": [
    "### LOAD dataset"
   ]
  },
  {
   "cell_type": "code",
   "execution_count": 205,
   "id": "3bf0749d",
   "metadata": {},
   "outputs": [
    {
     "data": {
      "text/html": [
       "<div>\n",
       "<style scoped>\n",
       "    .dataframe tbody tr th:only-of-type {\n",
       "        vertical-align: middle;\n",
       "    }\n",
       "\n",
       "    .dataframe tbody tr th {\n",
       "        vertical-align: top;\n",
       "    }\n",
       "\n",
       "    .dataframe thead th {\n",
       "        text-align: right;\n",
       "    }\n",
       "</style>\n",
       "<table border=\"1\" class=\"dataframe\">\n",
       "  <thead>\n",
       "    <tr style=\"text-align: right;\">\n",
       "      <th></th>\n",
       "      <th>id</th>\n",
       "      <th>name</th>\n",
       "      <th>host_id</th>\n",
       "      <th>host_name</th>\n",
       "      <th>neighbourhood_group</th>\n",
       "      <th>neighbourhood</th>\n",
       "      <th>latitude</th>\n",
       "      <th>longitude</th>\n",
       "      <th>room_type</th>\n",
       "      <th>price</th>\n",
       "      <th>minimum_nights</th>\n",
       "      <th>number_of_reviews</th>\n",
       "      <th>last_review</th>\n",
       "      <th>reviews_per_month</th>\n",
       "      <th>calculated_host_listings_count</th>\n",
       "      <th>availability_365</th>\n",
       "    </tr>\n",
       "  </thead>\n",
       "  <tbody>\n",
       "    <tr>\n",
       "      <th>0</th>\n",
       "      <td>2539</td>\n",
       "      <td>Clean &amp; quiet apt home by the park</td>\n",
       "      <td>2787</td>\n",
       "      <td>John</td>\n",
       "      <td>Brooklyn</td>\n",
       "      <td>Kensington</td>\n",
       "      <td>40.64749</td>\n",
       "      <td>-73.97237</td>\n",
       "      <td>Private room</td>\n",
       "      <td>149</td>\n",
       "      <td>1</td>\n",
       "      <td>9</td>\n",
       "      <td>2018-10-19</td>\n",
       "      <td>0.21</td>\n",
       "      <td>6</td>\n",
       "      <td>365</td>\n",
       "    </tr>\n",
       "    <tr>\n",
       "      <th>1</th>\n",
       "      <td>2595</td>\n",
       "      <td>Skylit Midtown Castle</td>\n",
       "      <td>2845</td>\n",
       "      <td>Jennifer</td>\n",
       "      <td>Manhattan</td>\n",
       "      <td>Midtown</td>\n",
       "      <td>40.75362</td>\n",
       "      <td>-73.98377</td>\n",
       "      <td>Entire home/apt</td>\n",
       "      <td>225</td>\n",
       "      <td>1</td>\n",
       "      <td>45</td>\n",
       "      <td>2019-05-21</td>\n",
       "      <td>0.38</td>\n",
       "      <td>2</td>\n",
       "      <td>355</td>\n",
       "    </tr>\n",
       "    <tr>\n",
       "      <th>2</th>\n",
       "      <td>3647</td>\n",
       "      <td>THE VILLAGE OF HARLEM....NEW YORK !</td>\n",
       "      <td>4632</td>\n",
       "      <td>Elisabeth</td>\n",
       "      <td>Manhattan</td>\n",
       "      <td>Harlem</td>\n",
       "      <td>40.80902</td>\n",
       "      <td>-73.94190</td>\n",
       "      <td>Private room</td>\n",
       "      <td>150</td>\n",
       "      <td>3</td>\n",
       "      <td>0</td>\n",
       "      <td>NaN</td>\n",
       "      <td>NaN</td>\n",
       "      <td>1</td>\n",
       "      <td>365</td>\n",
       "    </tr>\n",
       "    <tr>\n",
       "      <th>3</th>\n",
       "      <td>3831</td>\n",
       "      <td>Cozy Entire Floor of Brownstone</td>\n",
       "      <td>4869</td>\n",
       "      <td>LisaRoxanne</td>\n",
       "      <td>Brooklyn</td>\n",
       "      <td>Clinton Hill</td>\n",
       "      <td>40.68514</td>\n",
       "      <td>-73.95976</td>\n",
       "      <td>Entire home/apt</td>\n",
       "      <td>89</td>\n",
       "      <td>1</td>\n",
       "      <td>270</td>\n",
       "      <td>2019-07-05</td>\n",
       "      <td>4.64</td>\n",
       "      <td>1</td>\n",
       "      <td>194</td>\n",
       "    </tr>\n",
       "    <tr>\n",
       "      <th>4</th>\n",
       "      <td>5022</td>\n",
       "      <td>Entire Apt: Spacious Studio/Loft by central park</td>\n",
       "      <td>7192</td>\n",
       "      <td>Laura</td>\n",
       "      <td>Manhattan</td>\n",
       "      <td>East Harlem</td>\n",
       "      <td>40.79851</td>\n",
       "      <td>-73.94399</td>\n",
       "      <td>Entire home/apt</td>\n",
       "      <td>80</td>\n",
       "      <td>10</td>\n",
       "      <td>9</td>\n",
       "      <td>2018-11-19</td>\n",
       "      <td>0.10</td>\n",
       "      <td>1</td>\n",
       "      <td>0</td>\n",
       "    </tr>\n",
       "  </tbody>\n",
       "</table>\n",
       "</div>"
      ],
      "text/plain": [
       "     id                                              name  host_id  \\\n",
       "0  2539                Clean & quiet apt home by the park     2787   \n",
       "1  2595                             Skylit Midtown Castle     2845   \n",
       "2  3647               THE VILLAGE OF HARLEM....NEW YORK !     4632   \n",
       "3  3831                   Cozy Entire Floor of Brownstone     4869   \n",
       "4  5022  Entire Apt: Spacious Studio/Loft by central park     7192   \n",
       "\n",
       "     host_name neighbourhood_group neighbourhood  latitude  longitude  \\\n",
       "0         John            Brooklyn    Kensington  40.64749  -73.97237   \n",
       "1     Jennifer           Manhattan       Midtown  40.75362  -73.98377   \n",
       "2    Elisabeth           Manhattan        Harlem  40.80902  -73.94190   \n",
       "3  LisaRoxanne            Brooklyn  Clinton Hill  40.68514  -73.95976   \n",
       "4        Laura           Manhattan   East Harlem  40.79851  -73.94399   \n",
       "\n",
       "         room_type  price  minimum_nights  number_of_reviews last_review  \\\n",
       "0     Private room    149               1                  9  2018-10-19   \n",
       "1  Entire home/apt    225               1                 45  2019-05-21   \n",
       "2     Private room    150               3                  0         NaN   \n",
       "3  Entire home/apt     89               1                270  2019-07-05   \n",
       "4  Entire home/apt     80              10                  9  2018-11-19   \n",
       "\n",
       "   reviews_per_month  calculated_host_listings_count  availability_365  \n",
       "0               0.21                               6               365  \n",
       "1               0.38                               2               355  \n",
       "2                NaN                               1               365  \n",
       "3               4.64                               1               194  \n",
       "4               0.10                               1                 0  "
      ]
     },
     "execution_count": 205,
     "metadata": {},
     "output_type": "execute_result"
    }
   ],
   "source": [
    "df = pd.read_csv('airbnb.csv')\n",
    "df.head()"
   ]
  },
  {
   "cell_type": "code",
   "execution_count": 206,
   "id": "c507c5f9",
   "metadata": {},
   "outputs": [
    {
     "data": {
      "text/plain": [
       "(48895, 16)"
      ]
     },
     "execution_count": 206,
     "metadata": {},
     "output_type": "execute_result"
    }
   ],
   "source": [
    "df.shape"
   ]
  },
  {
   "cell_type": "markdown",
   "id": "36618f11",
   "metadata": {},
   "source": [
    "### 1. Jelaskan apa gambaran besar yang anda dapatkan dari data tersebut.\n",
    "\n",
    "Dataset ini adalah data tentang daftar penyewa airbnb dengan jumlah total penyewa 48895 dengan berisi column keterangan keterangan lanjutannya seperti :\n",
    "* id \n",
    "<br>id penyewa airbnb\n",
    "\n",
    "\n",
    "* name\n",
    "<br>nama penyewa airbnb\n",
    "\n",
    "\n",
    "* host_id\n",
    "<br>id host airbnb\n",
    "\n",
    "\n",
    "* host_name\n",
    "<br>nama host airbnb\n",
    "\n",
    "\n",
    "* neighbourhood_group\n",
    "<br>grop neighbourhood\n",
    "\n",
    "\n",
    "* neighbourhood\n",
    "<br>neighbourhood\n",
    "\n",
    "\n",
    "* latitude                       \n",
    "<br>garis lintang\n",
    "\n",
    "\n",
    "* longitude                       \n",
    "<br>garis bujur\n",
    "\n",
    "\n",
    "* room_type\n",
    "<br>tipe ruangan\n",
    "\n",
    "\n",
    "* price\n",
    "<br>harga airbnb\n",
    "\n",
    "\n",
    "* minimum_nights\n",
    "<br>minimal sewa permalam\n",
    "\n",
    "\n",
    "* number_of_reviews\n",
    "<br>jumlah yang review\n",
    "\n",
    "\n",
    "* last_review\n",
    "<br>terakhir di review\n",
    "\n",
    "\n",
    "* reviews_per_month\n",
    "<br>jumlah review per bulan\n",
    "\n",
    "\n",
    "* calculated_host_listings_count\n",
    "<br>\n",
    "\n",
    "\n",
    "* availability_365\n",
    "<br>tersedia dalam satu tahun"
   ]
  },
  {
   "cell_type": "markdown",
   "id": "5cb0d974",
   "metadata": {},
   "source": [
    "### 2. Tunjukkan properties dari data pada setiap kolom, seperti type, missing value, dan lain-lain."
   ]
  },
  {
   "cell_type": "code",
   "execution_count": 207,
   "id": "8610c7d0",
   "metadata": {},
   "outputs": [
    {
     "name": "stdout",
     "output_type": "stream",
     "text": [
      "<class 'pandas.core.frame.DataFrame'>\n",
      "RangeIndex: 48895 entries, 0 to 48894\n",
      "Data columns (total 16 columns):\n",
      " #   Column                          Non-Null Count  Dtype  \n",
      "---  ------                          --------------  -----  \n",
      " 0   id                              48895 non-null  int64  \n",
      " 1   name                            48879 non-null  object \n",
      " 2   host_id                         48895 non-null  int64  \n",
      " 3   host_name                       48874 non-null  object \n",
      " 4   neighbourhood_group             48895 non-null  object \n",
      " 5   neighbourhood                   48895 non-null  object \n",
      " 6   latitude                        48895 non-null  float64\n",
      " 7   longitude                       48895 non-null  float64\n",
      " 8   room_type                       48895 non-null  object \n",
      " 9   price                           48895 non-null  int64  \n",
      " 10  minimum_nights                  48895 non-null  int64  \n",
      " 11  number_of_reviews               48895 non-null  int64  \n",
      " 12  last_review                     38843 non-null  object \n",
      " 13  reviews_per_month               38843 non-null  float64\n",
      " 14  calculated_host_listings_count  48895 non-null  int64  \n",
      " 15  availability_365                48895 non-null  int64  \n",
      "dtypes: float64(3), int64(7), object(6)\n",
      "memory usage: 6.0+ MB\n"
     ]
    }
   ],
   "source": [
    "df.info()"
   ]
  },
  {
   "cell_type": "markdown",
   "id": "683a2cfe",
   "metadata": {},
   "source": [
    "#### Missing Value"
   ]
  },
  {
   "cell_type": "code",
   "execution_count": 208,
   "id": "e3e26447",
   "metadata": {},
   "outputs": [
    {
     "data": {
      "text/plain": [
       "id                                    0\n",
       "name                                 16\n",
       "host_id                               0\n",
       "host_name                            21\n",
       "neighbourhood_group                   0\n",
       "neighbourhood                         0\n",
       "latitude                              0\n",
       "longitude                             0\n",
       "room_type                             0\n",
       "price                                 0\n",
       "minimum_nights                        0\n",
       "number_of_reviews                     0\n",
       "last_review                       10052\n",
       "reviews_per_month                 10052\n",
       "calculated_host_listings_count        0\n",
       "availability_365                      0\n",
       "dtype: int64"
      ]
     },
     "execution_count": 208,
     "metadata": {},
     "output_type": "execute_result"
    }
   ],
   "source": [
    "df.isna().sum()"
   ]
  },
  {
   "cell_type": "markdown",
   "id": "70dfe6cb",
   "metadata": {},
   "source": [
    "Missing Value :\n",
    "* name : 16\n",
    "* host_name : 21\n",
    "* last_review : 10052\n",
    "* reviews_per_month 10052"
   ]
  },
  {
   "cell_type": "markdown",
   "id": "c1414605",
   "metadata": {},
   "source": [
    "### 3. Tunjukkan jumlah data, mean, median, dan standar deviasi."
   ]
  },
  {
   "cell_type": "code",
   "execution_count": 209,
   "id": "405c18ef",
   "metadata": {},
   "outputs": [
    {
     "data": {
      "text/html": [
       "<div>\n",
       "<style scoped>\n",
       "    .dataframe tbody tr th:only-of-type {\n",
       "        vertical-align: middle;\n",
       "    }\n",
       "\n",
       "    .dataframe tbody tr th {\n",
       "        vertical-align: top;\n",
       "    }\n",
       "\n",
       "    .dataframe thead th {\n",
       "        text-align: right;\n",
       "    }\n",
       "</style>\n",
       "<table border=\"1\" class=\"dataframe\">\n",
       "  <thead>\n",
       "    <tr style=\"text-align: right;\">\n",
       "      <th></th>\n",
       "      <th>id</th>\n",
       "      <th>host_id</th>\n",
       "      <th>latitude</th>\n",
       "      <th>longitude</th>\n",
       "      <th>price</th>\n",
       "      <th>minimum_nights</th>\n",
       "      <th>number_of_reviews</th>\n",
       "      <th>reviews_per_month</th>\n",
       "      <th>calculated_host_listings_count</th>\n",
       "      <th>availability_365</th>\n",
       "    </tr>\n",
       "  </thead>\n",
       "  <tbody>\n",
       "    <tr>\n",
       "      <th>count</th>\n",
       "      <td>48895.0</td>\n",
       "      <td>48895.0</td>\n",
       "      <td>48895.0</td>\n",
       "      <td>48895.0</td>\n",
       "      <td>48895.0</td>\n",
       "      <td>48895.0</td>\n",
       "      <td>48895.0</td>\n",
       "      <td>38843.0</td>\n",
       "      <td>48895.0</td>\n",
       "      <td>48895.0</td>\n",
       "    </tr>\n",
       "    <tr>\n",
       "      <th>mean</th>\n",
       "      <td>19017143.0</td>\n",
       "      <td>67620011.0</td>\n",
       "      <td>41.0</td>\n",
       "      <td>-74.0</td>\n",
       "      <td>153.0</td>\n",
       "      <td>7.0</td>\n",
       "      <td>23.0</td>\n",
       "      <td>1.0</td>\n",
       "      <td>7.0</td>\n",
       "      <td>113.0</td>\n",
       "    </tr>\n",
       "    <tr>\n",
       "      <th>std</th>\n",
       "      <td>10983108.0</td>\n",
       "      <td>78610967.0</td>\n",
       "      <td>0.0</td>\n",
       "      <td>0.0</td>\n",
       "      <td>240.0</td>\n",
       "      <td>21.0</td>\n",
       "      <td>45.0</td>\n",
       "      <td>2.0</td>\n",
       "      <td>33.0</td>\n",
       "      <td>132.0</td>\n",
       "    </tr>\n",
       "    <tr>\n",
       "      <th>min</th>\n",
       "      <td>2539.0</td>\n",
       "      <td>2438.0</td>\n",
       "      <td>40.0</td>\n",
       "      <td>-74.0</td>\n",
       "      <td>0.0</td>\n",
       "      <td>1.0</td>\n",
       "      <td>0.0</td>\n",
       "      <td>0.0</td>\n",
       "      <td>1.0</td>\n",
       "      <td>0.0</td>\n",
       "    </tr>\n",
       "    <tr>\n",
       "      <th>25%</th>\n",
       "      <td>9471945.0</td>\n",
       "      <td>7822033.0</td>\n",
       "      <td>41.0</td>\n",
       "      <td>-74.0</td>\n",
       "      <td>69.0</td>\n",
       "      <td>1.0</td>\n",
       "      <td>1.0</td>\n",
       "      <td>0.0</td>\n",
       "      <td>1.0</td>\n",
       "      <td>0.0</td>\n",
       "    </tr>\n",
       "    <tr>\n",
       "      <th>50%</th>\n",
       "      <td>19677284.0</td>\n",
       "      <td>30793816.0</td>\n",
       "      <td>41.0</td>\n",
       "      <td>-74.0</td>\n",
       "      <td>106.0</td>\n",
       "      <td>3.0</td>\n",
       "      <td>5.0</td>\n",
       "      <td>1.0</td>\n",
       "      <td>1.0</td>\n",
       "      <td>45.0</td>\n",
       "    </tr>\n",
       "    <tr>\n",
       "      <th>75%</th>\n",
       "      <td>29152178.0</td>\n",
       "      <td>107434423.0</td>\n",
       "      <td>41.0</td>\n",
       "      <td>-74.0</td>\n",
       "      <td>175.0</td>\n",
       "      <td>5.0</td>\n",
       "      <td>24.0</td>\n",
       "      <td>2.0</td>\n",
       "      <td>2.0</td>\n",
       "      <td>227.0</td>\n",
       "    </tr>\n",
       "    <tr>\n",
       "      <th>max</th>\n",
       "      <td>36487245.0</td>\n",
       "      <td>274321313.0</td>\n",
       "      <td>41.0</td>\n",
       "      <td>-74.0</td>\n",
       "      <td>10000.0</td>\n",
       "      <td>1250.0</td>\n",
       "      <td>629.0</td>\n",
       "      <td>58.0</td>\n",
       "      <td>327.0</td>\n",
       "      <td>365.0</td>\n",
       "    </tr>\n",
       "  </tbody>\n",
       "</table>\n",
       "</div>"
      ],
      "text/plain": [
       "               id      host_id  latitude  longitude    price  minimum_nights  \\\n",
       "count     48895.0      48895.0   48895.0    48895.0  48895.0         48895.0   \n",
       "mean   19017143.0   67620011.0      41.0      -74.0    153.0             7.0   \n",
       "std    10983108.0   78610967.0       0.0        0.0    240.0            21.0   \n",
       "min        2539.0       2438.0      40.0      -74.0      0.0             1.0   \n",
       "25%     9471945.0    7822033.0      41.0      -74.0     69.0             1.0   \n",
       "50%    19677284.0   30793816.0      41.0      -74.0    106.0             3.0   \n",
       "75%    29152178.0  107434423.0      41.0      -74.0    175.0             5.0   \n",
       "max    36487245.0  274321313.0      41.0      -74.0  10000.0          1250.0   \n",
       "\n",
       "       number_of_reviews  reviews_per_month  calculated_host_listings_count  \\\n",
       "count            48895.0            38843.0                         48895.0   \n",
       "mean                23.0                1.0                             7.0   \n",
       "std                 45.0                2.0                            33.0   \n",
       "min                  0.0                0.0                             1.0   \n",
       "25%                  1.0                0.0                             1.0   \n",
       "50%                  5.0                1.0                             1.0   \n",
       "75%                 24.0                2.0                             2.0   \n",
       "max                629.0               58.0                           327.0   \n",
       "\n",
       "       availability_365  \n",
       "count           48895.0  \n",
       "mean              113.0  \n",
       "std               132.0  \n",
       "min                 0.0  \n",
       "25%                 0.0  \n",
       "50%                45.0  \n",
       "75%               227.0  \n",
       "max               365.0  "
      ]
     },
     "execution_count": 209,
     "metadata": {},
     "output_type": "execute_result"
    }
   ],
   "source": [
    "df.describe().round()"
   ]
  },
  {
   "cell_type": "markdown",
   "id": "0182d4f4",
   "metadata": {},
   "source": [
    "### 4.  Berapa harga minimal dan maksimal?"
   ]
  },
  {
   "cell_type": "code",
   "execution_count": 210,
   "id": "75644384",
   "metadata": {},
   "outputs": [
    {
     "data": {
      "text/plain": [
       "count    48895.0\n",
       "mean       153.0\n",
       "std        240.0\n",
       "min          0.0\n",
       "25%         69.0\n",
       "50%        106.0\n",
       "75%        175.0\n",
       "max      10000.0\n",
       "Name: price, dtype: float64"
      ]
     },
     "execution_count": 210,
     "metadata": {},
     "output_type": "execute_result"
    }
   ],
   "source": [
    "df['price'].describe().round()"
   ]
  },
  {
   "cell_type": "markdown",
   "id": "07792104",
   "metadata": {},
   "source": [
    "terlihat di method `describe()`\n",
    "\n",
    "harga minimal adalah **0** \\\n",
    "harga maxmimal adalah **10000**"
   ]
  },
  {
   "cell_type": "markdown",
   "id": "3ea36465",
   "metadata": {},
   "source": [
    "### 5.\tSelesaikan masalah missing value dengan cara berikut:\n",
    "* Drop kolom-kolom yang mengandung missing value yang tidak dalam diisi dengan nilai yang logis, seperti nama, host_id, dan lain-lain.\n",
    "* Isi missing value pada kolom last_review dengan data yang paling banyak muncul.\n",
    "* Isi missing value pada kolom reviews_per_month dengan mean."
   ]
  },
  {
   "cell_type": "markdown",
   "id": "0a7affce",
   "metadata": {},
   "source": [
    "#### Kondisi awal data"
   ]
  },
  {
   "cell_type": "code",
   "execution_count": 211,
   "id": "9b38eb74",
   "metadata": {},
   "outputs": [
    {
     "data": {
      "text/plain": [
       "id                                    0\n",
       "name                                 16\n",
       "host_id                               0\n",
       "host_name                            21\n",
       "neighbourhood_group                   0\n",
       "neighbourhood                         0\n",
       "latitude                              0\n",
       "longitude                             0\n",
       "room_type                             0\n",
       "price                                 0\n",
       "minimum_nights                        0\n",
       "number_of_reviews                     0\n",
       "last_review                       10052\n",
       "reviews_per_month                 10052\n",
       "calculated_host_listings_count        0\n",
       "availability_365                      0\n",
       "dtype: int64"
      ]
     },
     "execution_count": 211,
     "metadata": {},
     "output_type": "execute_result"
    }
   ],
   "source": [
    "df.isna().sum()"
   ]
  },
  {
   "cell_type": "markdown",
   "id": "6ea2f9d6",
   "metadata": {},
   "source": [
    "terlihat column `name` dan `host_name` memiliki value kosong"
   ]
  },
  {
   "cell_type": "markdown",
   "id": "3464309c",
   "metadata": {},
   "source": [
    "#### drop column yang mengandung missing value"
   ]
  },
  {
   "cell_type": "code",
   "execution_count": 212,
   "id": "89dd1317",
   "metadata": {},
   "outputs": [],
   "source": [
    "df.drop(columns=['name','host_name'], axis=1, inplace=True)"
   ]
  },
  {
   "cell_type": "code",
   "execution_count": 213,
   "id": "ff3b5db3",
   "metadata": {},
   "outputs": [
    {
     "data": {
      "text/plain": [
       "id                                    0\n",
       "host_id                               0\n",
       "neighbourhood_group                   0\n",
       "neighbourhood                         0\n",
       "latitude                              0\n",
       "longitude                             0\n",
       "room_type                             0\n",
       "price                                 0\n",
       "minimum_nights                        0\n",
       "number_of_reviews                     0\n",
       "last_review                       10052\n",
       "reviews_per_month                 10052\n",
       "calculated_host_listings_count        0\n",
       "availability_365                      0\n",
       "dtype: int64"
      ]
     },
     "execution_count": 213,
     "metadata": {},
     "output_type": "execute_result"
    }
   ],
   "source": [
    "df.isna().sum()"
   ]
  },
  {
   "cell_type": "code",
   "execution_count": 214,
   "id": "e4415208",
   "metadata": {},
   "outputs": [
    {
     "data": {
      "text/plain": [
       "(48895, 14)"
      ]
     },
     "execution_count": 214,
     "metadata": {},
     "output_type": "execute_result"
    }
   ],
   "source": [
    "df.shape"
   ]
  },
  {
   "cell_type": "markdown",
   "id": "caca6483",
   "metadata": {},
   "source": [
    "#### Kondisi setelah di drop"
   ]
  },
  {
   "cell_type": "code",
   "execution_count": 215,
   "id": "85a37b20",
   "metadata": {
    "scrolled": true
   },
   "outputs": [
    {
     "data": {
      "text/plain": [
       "id                                    0\n",
       "host_id                               0\n",
       "neighbourhood_group                   0\n",
       "neighbourhood                         0\n",
       "latitude                              0\n",
       "longitude                             0\n",
       "room_type                             0\n",
       "price                                 0\n",
       "minimum_nights                        0\n",
       "number_of_reviews                     0\n",
       "last_review                       10052\n",
       "reviews_per_month                 10052\n",
       "calculated_host_listings_count        0\n",
       "availability_365                      0\n",
       "dtype: int64"
      ]
     },
     "execution_count": 215,
     "metadata": {},
     "output_type": "execute_result"
    }
   ],
   "source": [
    "df.isna().sum()"
   ]
  },
  {
   "cell_type": "markdown",
   "id": "25d7a603",
   "metadata": {},
   "source": [
    "#### isi last_review dengan nilai mode"
   ]
  },
  {
   "cell_type": "code",
   "execution_count": 216,
   "id": "b0e8bc68",
   "metadata": {
    "scrolled": false
   },
   "outputs": [
    {
     "data": {
      "text/plain": [
       "2019-06-23    1413\n",
       "2019-07-01    1359\n",
       "2019-06-30    1341\n",
       "2019-06-24     875\n",
       "2019-07-07     718\n",
       "              ... \n",
       "2014-09-18       1\n",
       "2014-10-04       1\n",
       "2013-07-11       1\n",
       "2011-05-12       1\n",
       "2015-01-18       1\n",
       "Name: last_review, Length: 1764, dtype: int64"
      ]
     },
     "execution_count": 216,
     "metadata": {},
     "output_type": "execute_result"
    }
   ],
   "source": [
    "df['last_review'].value_counts()"
   ]
  },
  {
   "cell_type": "markdown",
   "id": "6761b6e6",
   "metadata": {},
   "source": [
    "nilai terbanyak `'2019-06-23'`"
   ]
  },
  {
   "cell_type": "code",
   "execution_count": 217,
   "id": "6e43d380",
   "metadata": {},
   "outputs": [],
   "source": [
    "df['last_review'].fillna(df['last_review'].mode()[0], inplace=True)"
   ]
  },
  {
   "cell_type": "code",
   "execution_count": 218,
   "id": "58d36817",
   "metadata": {},
   "outputs": [
    {
     "data": {
      "text/plain": [
       "2019-06-23    11465\n",
       "2019-07-01     1359\n",
       "2019-06-30     1341\n",
       "2019-06-24      875\n",
       "2019-07-07      718\n",
       "              ...  \n",
       "2014-09-18        1\n",
       "2014-10-04        1\n",
       "2013-07-11        1\n",
       "2011-05-12        1\n",
       "2015-01-18        1\n",
       "Name: last_review, Length: 1764, dtype: int64"
      ]
     },
     "execution_count": 218,
     "metadata": {},
     "output_type": "execute_result"
    }
   ],
   "source": [
    "df['last_review'].value_counts()"
   ]
  },
  {
   "cell_type": "markdown",
   "id": "5f97b8f5",
   "metadata": {},
   "source": [
    "#### isi nilai reviews_per_months dengan mean"
   ]
  },
  {
   "cell_type": "code",
   "execution_count": 219,
   "id": "d072c2cc",
   "metadata": {},
   "outputs": [
    {
     "data": {
      "text/plain": [
       "0.02     919\n",
       "0.05     893\n",
       "1.00     893\n",
       "0.03     804\n",
       "0.16     667\n",
       "        ... \n",
       "16.22      1\n",
       "9.33       1\n",
       "12.99      1\n",
       "11.72      1\n",
       "11.03      1\n",
       "Name: reviews_per_month, Length: 937, dtype: int64"
      ]
     },
     "execution_count": 219,
     "metadata": {},
     "output_type": "execute_result"
    }
   ],
   "source": [
    "df['reviews_per_month'].value_counts()"
   ]
  },
  {
   "cell_type": "code",
   "execution_count": 220,
   "id": "96153536",
   "metadata": {},
   "outputs": [
    {
     "data": {
      "text/plain": [
       "1.3732214298586884"
      ]
     },
     "execution_count": 220,
     "metadata": {},
     "output_type": "execute_result"
    }
   ],
   "source": [
    "df['reviews_per_month'].mean()"
   ]
  },
  {
   "cell_type": "code",
   "execution_count": 221,
   "id": "9eb91481",
   "metadata": {},
   "outputs": [],
   "source": [
    "df['reviews_per_month'].fillna(df['reviews_per_month'].mean(), inplace=True)"
   ]
  },
  {
   "cell_type": "code",
   "execution_count": 222,
   "id": "79fbf07d",
   "metadata": {},
   "outputs": [
    {
     "data": {
      "text/plain": [
       "0"
      ]
     },
     "execution_count": 222,
     "metadata": {},
     "output_type": "execute_result"
    }
   ],
   "source": [
    "df['reviews_per_month'].isna().sum()"
   ]
  },
  {
   "cell_type": "code",
   "execution_count": 223,
   "id": "a8ae3e83",
   "metadata": {},
   "outputs": [
    {
     "data": {
      "text/plain": [
       "1.373221     10052\n",
       "0.020000       919\n",
       "1.000000       893\n",
       "0.050000       893\n",
       "0.030000       804\n",
       "             ...  \n",
       "8.470000         1\n",
       "13.300000        1\n",
       "8.720000         1\n",
       "16.220000        1\n",
       "10.230000        1\n",
       "Name: reviews_per_month, Length: 938, dtype: int64"
      ]
     },
     "execution_count": 223,
     "metadata": {},
     "output_type": "execute_result"
    }
   ],
   "source": [
    "df['reviews_per_month'].value_counts()"
   ]
  },
  {
   "cell_type": "markdown",
   "id": "310d292a",
   "metadata": {},
   "source": [
    "### 6. Buat kategori berdasarkan Price: Cheap, Medium, dan Expensive"
   ]
  },
  {
   "cell_type": "markdown",
   "id": "8d8c0f9d",
   "metadata": {},
   "source": [
    "#### Range kategori\n",
    "* `Cheap` = kurang dari 150\n",
    "* `Medium` = lebih dari 150 dan kurang dari 500\n",
    "* `Expensive` = lebih dari 500"
   ]
  },
  {
   "cell_type": "code",
   "execution_count": 224,
   "id": "d8b57bc2",
   "metadata": {},
   "outputs": [],
   "source": [
    "cheap = df['price'] < 150\n",
    "expensive = df['price'] > 500\n",
    "df['category'] = np.where(cheap, 'Cheap', np.where(expensive, 'Expensive','Medium'))"
   ]
  },
  {
   "cell_type": "code",
   "execution_count": 225,
   "id": "b2a6580c",
   "metadata": {
    "scrolled": false
   },
   "outputs": [
    {
     "data": {
      "text/html": [
       "<div>\n",
       "<style scoped>\n",
       "    .dataframe tbody tr th:only-of-type {\n",
       "        vertical-align: middle;\n",
       "    }\n",
       "\n",
       "    .dataframe tbody tr th {\n",
       "        vertical-align: top;\n",
       "    }\n",
       "\n",
       "    .dataframe thead th {\n",
       "        text-align: right;\n",
       "    }\n",
       "</style>\n",
       "<table border=\"1\" class=\"dataframe\">\n",
       "  <thead>\n",
       "    <tr style=\"text-align: right;\">\n",
       "      <th></th>\n",
       "      <th>id</th>\n",
       "      <th>host_id</th>\n",
       "      <th>neighbourhood_group</th>\n",
       "      <th>neighbourhood</th>\n",
       "      <th>latitude</th>\n",
       "      <th>longitude</th>\n",
       "      <th>room_type</th>\n",
       "      <th>price</th>\n",
       "      <th>minimum_nights</th>\n",
       "      <th>number_of_reviews</th>\n",
       "      <th>last_review</th>\n",
       "      <th>reviews_per_month</th>\n",
       "      <th>calculated_host_listings_count</th>\n",
       "      <th>availability_365</th>\n",
       "      <th>category</th>\n",
       "    </tr>\n",
       "  </thead>\n",
       "  <tbody>\n",
       "    <tr>\n",
       "      <th>0</th>\n",
       "      <td>2539</td>\n",
       "      <td>2787</td>\n",
       "      <td>Brooklyn</td>\n",
       "      <td>Kensington</td>\n",
       "      <td>40.64749</td>\n",
       "      <td>-73.97237</td>\n",
       "      <td>Private room</td>\n",
       "      <td>149</td>\n",
       "      <td>1</td>\n",
       "      <td>9</td>\n",
       "      <td>2018-10-19</td>\n",
       "      <td>0.210000</td>\n",
       "      <td>6</td>\n",
       "      <td>365</td>\n",
       "      <td>Cheap</td>\n",
       "    </tr>\n",
       "    <tr>\n",
       "      <th>1</th>\n",
       "      <td>2595</td>\n",
       "      <td>2845</td>\n",
       "      <td>Manhattan</td>\n",
       "      <td>Midtown</td>\n",
       "      <td>40.75362</td>\n",
       "      <td>-73.98377</td>\n",
       "      <td>Entire home/apt</td>\n",
       "      <td>225</td>\n",
       "      <td>1</td>\n",
       "      <td>45</td>\n",
       "      <td>2019-05-21</td>\n",
       "      <td>0.380000</td>\n",
       "      <td>2</td>\n",
       "      <td>355</td>\n",
       "      <td>Medium</td>\n",
       "    </tr>\n",
       "    <tr>\n",
       "      <th>2</th>\n",
       "      <td>3647</td>\n",
       "      <td>4632</td>\n",
       "      <td>Manhattan</td>\n",
       "      <td>Harlem</td>\n",
       "      <td>40.80902</td>\n",
       "      <td>-73.94190</td>\n",
       "      <td>Private room</td>\n",
       "      <td>150</td>\n",
       "      <td>3</td>\n",
       "      <td>0</td>\n",
       "      <td>2019-06-23</td>\n",
       "      <td>1.373221</td>\n",
       "      <td>1</td>\n",
       "      <td>365</td>\n",
       "      <td>Medium</td>\n",
       "    </tr>\n",
       "    <tr>\n",
       "      <th>3</th>\n",
       "      <td>3831</td>\n",
       "      <td>4869</td>\n",
       "      <td>Brooklyn</td>\n",
       "      <td>Clinton Hill</td>\n",
       "      <td>40.68514</td>\n",
       "      <td>-73.95976</td>\n",
       "      <td>Entire home/apt</td>\n",
       "      <td>89</td>\n",
       "      <td>1</td>\n",
       "      <td>270</td>\n",
       "      <td>2019-07-05</td>\n",
       "      <td>4.640000</td>\n",
       "      <td>1</td>\n",
       "      <td>194</td>\n",
       "      <td>Cheap</td>\n",
       "    </tr>\n",
       "    <tr>\n",
       "      <th>4</th>\n",
       "      <td>5022</td>\n",
       "      <td>7192</td>\n",
       "      <td>Manhattan</td>\n",
       "      <td>East Harlem</td>\n",
       "      <td>40.79851</td>\n",
       "      <td>-73.94399</td>\n",
       "      <td>Entire home/apt</td>\n",
       "      <td>80</td>\n",
       "      <td>10</td>\n",
       "      <td>9</td>\n",
       "      <td>2018-11-19</td>\n",
       "      <td>0.100000</td>\n",
       "      <td>1</td>\n",
       "      <td>0</td>\n",
       "      <td>Cheap</td>\n",
       "    </tr>\n",
       "    <tr>\n",
       "      <th>...</th>\n",
       "      <td>...</td>\n",
       "      <td>...</td>\n",
       "      <td>...</td>\n",
       "      <td>...</td>\n",
       "      <td>...</td>\n",
       "      <td>...</td>\n",
       "      <td>...</td>\n",
       "      <td>...</td>\n",
       "      <td>...</td>\n",
       "      <td>...</td>\n",
       "      <td>...</td>\n",
       "      <td>...</td>\n",
       "      <td>...</td>\n",
       "      <td>...</td>\n",
       "      <td>...</td>\n",
       "    </tr>\n",
       "    <tr>\n",
       "      <th>48890</th>\n",
       "      <td>36484665</td>\n",
       "      <td>8232441</td>\n",
       "      <td>Brooklyn</td>\n",
       "      <td>Bedford-Stuyvesant</td>\n",
       "      <td>40.67853</td>\n",
       "      <td>-73.94995</td>\n",
       "      <td>Private room</td>\n",
       "      <td>70</td>\n",
       "      <td>2</td>\n",
       "      <td>0</td>\n",
       "      <td>2019-06-23</td>\n",
       "      <td>1.373221</td>\n",
       "      <td>2</td>\n",
       "      <td>9</td>\n",
       "      <td>Cheap</td>\n",
       "    </tr>\n",
       "    <tr>\n",
       "      <th>48891</th>\n",
       "      <td>36485057</td>\n",
       "      <td>6570630</td>\n",
       "      <td>Brooklyn</td>\n",
       "      <td>Bushwick</td>\n",
       "      <td>40.70184</td>\n",
       "      <td>-73.93317</td>\n",
       "      <td>Private room</td>\n",
       "      <td>40</td>\n",
       "      <td>4</td>\n",
       "      <td>0</td>\n",
       "      <td>2019-06-23</td>\n",
       "      <td>1.373221</td>\n",
       "      <td>2</td>\n",
       "      <td>36</td>\n",
       "      <td>Cheap</td>\n",
       "    </tr>\n",
       "    <tr>\n",
       "      <th>48892</th>\n",
       "      <td>36485431</td>\n",
       "      <td>23492952</td>\n",
       "      <td>Manhattan</td>\n",
       "      <td>Harlem</td>\n",
       "      <td>40.81475</td>\n",
       "      <td>-73.94867</td>\n",
       "      <td>Entire home/apt</td>\n",
       "      <td>115</td>\n",
       "      <td>10</td>\n",
       "      <td>0</td>\n",
       "      <td>2019-06-23</td>\n",
       "      <td>1.373221</td>\n",
       "      <td>1</td>\n",
       "      <td>27</td>\n",
       "      <td>Cheap</td>\n",
       "    </tr>\n",
       "    <tr>\n",
       "      <th>48893</th>\n",
       "      <td>36485609</td>\n",
       "      <td>30985759</td>\n",
       "      <td>Manhattan</td>\n",
       "      <td>Hell's Kitchen</td>\n",
       "      <td>40.75751</td>\n",
       "      <td>-73.99112</td>\n",
       "      <td>Shared room</td>\n",
       "      <td>55</td>\n",
       "      <td>1</td>\n",
       "      <td>0</td>\n",
       "      <td>2019-06-23</td>\n",
       "      <td>1.373221</td>\n",
       "      <td>6</td>\n",
       "      <td>2</td>\n",
       "      <td>Cheap</td>\n",
       "    </tr>\n",
       "    <tr>\n",
       "      <th>48894</th>\n",
       "      <td>36487245</td>\n",
       "      <td>68119814</td>\n",
       "      <td>Manhattan</td>\n",
       "      <td>Hell's Kitchen</td>\n",
       "      <td>40.76404</td>\n",
       "      <td>-73.98933</td>\n",
       "      <td>Private room</td>\n",
       "      <td>90</td>\n",
       "      <td>7</td>\n",
       "      <td>0</td>\n",
       "      <td>2019-06-23</td>\n",
       "      <td>1.373221</td>\n",
       "      <td>1</td>\n",
       "      <td>23</td>\n",
       "      <td>Cheap</td>\n",
       "    </tr>\n",
       "  </tbody>\n",
       "</table>\n",
       "<p>48895 rows × 15 columns</p>\n",
       "</div>"
      ],
      "text/plain": [
       "             id   host_id neighbourhood_group       neighbourhood  latitude  \\\n",
       "0          2539      2787            Brooklyn          Kensington  40.64749   \n",
       "1          2595      2845           Manhattan             Midtown  40.75362   \n",
       "2          3647      4632           Manhattan              Harlem  40.80902   \n",
       "3          3831      4869            Brooklyn        Clinton Hill  40.68514   \n",
       "4          5022      7192           Manhattan         East Harlem  40.79851   \n",
       "...         ...       ...                 ...                 ...       ...   \n",
       "48890  36484665   8232441            Brooklyn  Bedford-Stuyvesant  40.67853   \n",
       "48891  36485057   6570630            Brooklyn            Bushwick  40.70184   \n",
       "48892  36485431  23492952           Manhattan              Harlem  40.81475   \n",
       "48893  36485609  30985759           Manhattan      Hell's Kitchen  40.75751   \n",
       "48894  36487245  68119814           Manhattan      Hell's Kitchen  40.76404   \n",
       "\n",
       "       longitude        room_type  price  minimum_nights  number_of_reviews  \\\n",
       "0      -73.97237     Private room    149               1                  9   \n",
       "1      -73.98377  Entire home/apt    225               1                 45   \n",
       "2      -73.94190     Private room    150               3                  0   \n",
       "3      -73.95976  Entire home/apt     89               1                270   \n",
       "4      -73.94399  Entire home/apt     80              10                  9   \n",
       "...          ...              ...    ...             ...                ...   \n",
       "48890  -73.94995     Private room     70               2                  0   \n",
       "48891  -73.93317     Private room     40               4                  0   \n",
       "48892  -73.94867  Entire home/apt    115              10                  0   \n",
       "48893  -73.99112      Shared room     55               1                  0   \n",
       "48894  -73.98933     Private room     90               7                  0   \n",
       "\n",
       "      last_review  reviews_per_month  calculated_host_listings_count  \\\n",
       "0      2018-10-19           0.210000                               6   \n",
       "1      2019-05-21           0.380000                               2   \n",
       "2      2019-06-23           1.373221                               1   \n",
       "3      2019-07-05           4.640000                               1   \n",
       "4      2018-11-19           0.100000                               1   \n",
       "...           ...                ...                             ...   \n",
       "48890  2019-06-23           1.373221                               2   \n",
       "48891  2019-06-23           1.373221                               2   \n",
       "48892  2019-06-23           1.373221                               1   \n",
       "48893  2019-06-23           1.373221                               6   \n",
       "48894  2019-06-23           1.373221                               1   \n",
       "\n",
       "       availability_365 category  \n",
       "0                   365    Cheap  \n",
       "1                   355   Medium  \n",
       "2                   365   Medium  \n",
       "3                   194    Cheap  \n",
       "4                     0    Cheap  \n",
       "...                 ...      ...  \n",
       "48890                 9    Cheap  \n",
       "48891                36    Cheap  \n",
       "48892                27    Cheap  \n",
       "48893                 2    Cheap  \n",
       "48894                23    Cheap  \n",
       "\n",
       "[48895 rows x 15 columns]"
      ]
     },
     "execution_count": 225,
     "metadata": {},
     "output_type": "execute_result"
    }
   ],
   "source": [
    "df"
   ]
  },
  {
   "cell_type": "markdown",
   "id": "7b18ba70",
   "metadata": {},
   "source": [
    "### 7. Filter semua data yang memiliki last_review di > 2019"
   ]
  },
  {
   "cell_type": "code",
   "execution_count": 226,
   "id": "398875f0",
   "metadata": {},
   "outputs": [
    {
     "data": {
      "text/plain": [
       "2019-06-23    11465\n",
       "2019-07-01     1359\n",
       "2019-06-30     1341\n",
       "2019-06-24      875\n",
       "2019-07-07      718\n",
       "              ...  \n",
       "2014-09-18        1\n",
       "2014-10-04        1\n",
       "2013-07-11        1\n",
       "2011-05-12        1\n",
       "2015-01-18        1\n",
       "Name: last_review, Length: 1764, dtype: int64"
      ]
     },
     "execution_count": 226,
     "metadata": {},
     "output_type": "execute_result"
    }
   ],
   "source": [
    "df['last_review'].value_counts()"
   ]
  },
  {
   "cell_type": "code",
   "execution_count": 227,
   "id": "e807a140",
   "metadata": {
    "scrolled": true
   },
   "outputs": [
    {
     "data": {
      "text/html": [
       "<div>\n",
       "<style scoped>\n",
       "    .dataframe tbody tr th:only-of-type {\n",
       "        vertical-align: middle;\n",
       "    }\n",
       "\n",
       "    .dataframe tbody tr th {\n",
       "        vertical-align: top;\n",
       "    }\n",
       "\n",
       "    .dataframe thead th {\n",
       "        text-align: right;\n",
       "    }\n",
       "</style>\n",
       "<table border=\"1\" class=\"dataframe\">\n",
       "  <thead>\n",
       "    <tr style=\"text-align: right;\">\n",
       "      <th></th>\n",
       "      <th>id</th>\n",
       "      <th>host_id</th>\n",
       "      <th>neighbourhood_group</th>\n",
       "      <th>neighbourhood</th>\n",
       "      <th>latitude</th>\n",
       "      <th>longitude</th>\n",
       "      <th>room_type</th>\n",
       "      <th>price</th>\n",
       "      <th>minimum_nights</th>\n",
       "      <th>number_of_reviews</th>\n",
       "      <th>last_review</th>\n",
       "      <th>reviews_per_month</th>\n",
       "      <th>calculated_host_listings_count</th>\n",
       "      <th>availability_365</th>\n",
       "      <th>category</th>\n",
       "    </tr>\n",
       "  </thead>\n",
       "  <tbody>\n",
       "    <tr>\n",
       "      <th>1</th>\n",
       "      <td>2595</td>\n",
       "      <td>2845</td>\n",
       "      <td>Manhattan</td>\n",
       "      <td>Midtown</td>\n",
       "      <td>40.75362</td>\n",
       "      <td>-73.98377</td>\n",
       "      <td>Entire home/apt</td>\n",
       "      <td>225</td>\n",
       "      <td>1</td>\n",
       "      <td>45</td>\n",
       "      <td>2019-05-21</td>\n",
       "      <td>0.380000</td>\n",
       "      <td>2</td>\n",
       "      <td>355</td>\n",
       "      <td>Medium</td>\n",
       "    </tr>\n",
       "    <tr>\n",
       "      <th>2</th>\n",
       "      <td>3647</td>\n",
       "      <td>4632</td>\n",
       "      <td>Manhattan</td>\n",
       "      <td>Harlem</td>\n",
       "      <td>40.80902</td>\n",
       "      <td>-73.94190</td>\n",
       "      <td>Private room</td>\n",
       "      <td>150</td>\n",
       "      <td>3</td>\n",
       "      <td>0</td>\n",
       "      <td>2019-06-23</td>\n",
       "      <td>1.373221</td>\n",
       "      <td>1</td>\n",
       "      <td>365</td>\n",
       "      <td>Medium</td>\n",
       "    </tr>\n",
       "    <tr>\n",
       "      <th>3</th>\n",
       "      <td>3831</td>\n",
       "      <td>4869</td>\n",
       "      <td>Brooklyn</td>\n",
       "      <td>Clinton Hill</td>\n",
       "      <td>40.68514</td>\n",
       "      <td>-73.95976</td>\n",
       "      <td>Entire home/apt</td>\n",
       "      <td>89</td>\n",
       "      <td>1</td>\n",
       "      <td>270</td>\n",
       "      <td>2019-07-05</td>\n",
       "      <td>4.640000</td>\n",
       "      <td>1</td>\n",
       "      <td>194</td>\n",
       "      <td>Cheap</td>\n",
       "    </tr>\n",
       "    <tr>\n",
       "      <th>5</th>\n",
       "      <td>5099</td>\n",
       "      <td>7322</td>\n",
       "      <td>Manhattan</td>\n",
       "      <td>Murray Hill</td>\n",
       "      <td>40.74767</td>\n",
       "      <td>-73.97500</td>\n",
       "      <td>Entire home/apt</td>\n",
       "      <td>200</td>\n",
       "      <td>3</td>\n",
       "      <td>74</td>\n",
       "      <td>2019-06-22</td>\n",
       "      <td>0.590000</td>\n",
       "      <td>1</td>\n",
       "      <td>129</td>\n",
       "      <td>Medium</td>\n",
       "    </tr>\n",
       "    <tr>\n",
       "      <th>7</th>\n",
       "      <td>5178</td>\n",
       "      <td>8967</td>\n",
       "      <td>Manhattan</td>\n",
       "      <td>Hell's Kitchen</td>\n",
       "      <td>40.76489</td>\n",
       "      <td>-73.98493</td>\n",
       "      <td>Private room</td>\n",
       "      <td>79</td>\n",
       "      <td>2</td>\n",
       "      <td>430</td>\n",
       "      <td>2019-06-24</td>\n",
       "      <td>3.470000</td>\n",
       "      <td>1</td>\n",
       "      <td>220</td>\n",
       "      <td>Cheap</td>\n",
       "    </tr>\n",
       "    <tr>\n",
       "      <th>...</th>\n",
       "      <td>...</td>\n",
       "      <td>...</td>\n",
       "      <td>...</td>\n",
       "      <td>...</td>\n",
       "      <td>...</td>\n",
       "      <td>...</td>\n",
       "      <td>...</td>\n",
       "      <td>...</td>\n",
       "      <td>...</td>\n",
       "      <td>...</td>\n",
       "      <td>...</td>\n",
       "      <td>...</td>\n",
       "      <td>...</td>\n",
       "      <td>...</td>\n",
       "      <td>...</td>\n",
       "    </tr>\n",
       "    <tr>\n",
       "      <th>48890</th>\n",
       "      <td>36484665</td>\n",
       "      <td>8232441</td>\n",
       "      <td>Brooklyn</td>\n",
       "      <td>Bedford-Stuyvesant</td>\n",
       "      <td>40.67853</td>\n",
       "      <td>-73.94995</td>\n",
       "      <td>Private room</td>\n",
       "      <td>70</td>\n",
       "      <td>2</td>\n",
       "      <td>0</td>\n",
       "      <td>2019-06-23</td>\n",
       "      <td>1.373221</td>\n",
       "      <td>2</td>\n",
       "      <td>9</td>\n",
       "      <td>Cheap</td>\n",
       "    </tr>\n",
       "    <tr>\n",
       "      <th>48891</th>\n",
       "      <td>36485057</td>\n",
       "      <td>6570630</td>\n",
       "      <td>Brooklyn</td>\n",
       "      <td>Bushwick</td>\n",
       "      <td>40.70184</td>\n",
       "      <td>-73.93317</td>\n",
       "      <td>Private room</td>\n",
       "      <td>40</td>\n",
       "      <td>4</td>\n",
       "      <td>0</td>\n",
       "      <td>2019-06-23</td>\n",
       "      <td>1.373221</td>\n",
       "      <td>2</td>\n",
       "      <td>36</td>\n",
       "      <td>Cheap</td>\n",
       "    </tr>\n",
       "    <tr>\n",
       "      <th>48892</th>\n",
       "      <td>36485431</td>\n",
       "      <td>23492952</td>\n",
       "      <td>Manhattan</td>\n",
       "      <td>Harlem</td>\n",
       "      <td>40.81475</td>\n",
       "      <td>-73.94867</td>\n",
       "      <td>Entire home/apt</td>\n",
       "      <td>115</td>\n",
       "      <td>10</td>\n",
       "      <td>0</td>\n",
       "      <td>2019-06-23</td>\n",
       "      <td>1.373221</td>\n",
       "      <td>1</td>\n",
       "      <td>27</td>\n",
       "      <td>Cheap</td>\n",
       "    </tr>\n",
       "    <tr>\n",
       "      <th>48893</th>\n",
       "      <td>36485609</td>\n",
       "      <td>30985759</td>\n",
       "      <td>Manhattan</td>\n",
       "      <td>Hell's Kitchen</td>\n",
       "      <td>40.75751</td>\n",
       "      <td>-73.99112</td>\n",
       "      <td>Shared room</td>\n",
       "      <td>55</td>\n",
       "      <td>1</td>\n",
       "      <td>0</td>\n",
       "      <td>2019-06-23</td>\n",
       "      <td>1.373221</td>\n",
       "      <td>6</td>\n",
       "      <td>2</td>\n",
       "      <td>Cheap</td>\n",
       "    </tr>\n",
       "    <tr>\n",
       "      <th>48894</th>\n",
       "      <td>36487245</td>\n",
       "      <td>68119814</td>\n",
       "      <td>Manhattan</td>\n",
       "      <td>Hell's Kitchen</td>\n",
       "      <td>40.76404</td>\n",
       "      <td>-73.98933</td>\n",
       "      <td>Private room</td>\n",
       "      <td>90</td>\n",
       "      <td>7</td>\n",
       "      <td>0</td>\n",
       "      <td>2019-06-23</td>\n",
       "      <td>1.373221</td>\n",
       "      <td>1</td>\n",
       "      <td>23</td>\n",
       "      <td>Cheap</td>\n",
       "    </tr>\n",
       "  </tbody>\n",
       "</table>\n",
       "<p>34863 rows × 15 columns</p>\n",
       "</div>"
      ],
      "text/plain": [
       "             id   host_id neighbourhood_group       neighbourhood  latitude  \\\n",
       "1          2595      2845           Manhattan             Midtown  40.75362   \n",
       "2          3647      4632           Manhattan              Harlem  40.80902   \n",
       "3          3831      4869            Brooklyn        Clinton Hill  40.68514   \n",
       "5          5099      7322           Manhattan         Murray Hill  40.74767   \n",
       "7          5178      8967           Manhattan      Hell's Kitchen  40.76489   \n",
       "...         ...       ...                 ...                 ...       ...   \n",
       "48890  36484665   8232441            Brooklyn  Bedford-Stuyvesant  40.67853   \n",
       "48891  36485057   6570630            Brooklyn            Bushwick  40.70184   \n",
       "48892  36485431  23492952           Manhattan              Harlem  40.81475   \n",
       "48893  36485609  30985759           Manhattan      Hell's Kitchen  40.75751   \n",
       "48894  36487245  68119814           Manhattan      Hell's Kitchen  40.76404   \n",
       "\n",
       "       longitude        room_type  price  minimum_nights  number_of_reviews  \\\n",
       "1      -73.98377  Entire home/apt    225               1                 45   \n",
       "2      -73.94190     Private room    150               3                  0   \n",
       "3      -73.95976  Entire home/apt     89               1                270   \n",
       "5      -73.97500  Entire home/apt    200               3                 74   \n",
       "7      -73.98493     Private room     79               2                430   \n",
       "...          ...              ...    ...             ...                ...   \n",
       "48890  -73.94995     Private room     70               2                  0   \n",
       "48891  -73.93317     Private room     40               4                  0   \n",
       "48892  -73.94867  Entire home/apt    115              10                  0   \n",
       "48893  -73.99112      Shared room     55               1                  0   \n",
       "48894  -73.98933     Private room     90               7                  0   \n",
       "\n",
       "      last_review  reviews_per_month  calculated_host_listings_count  \\\n",
       "1      2019-05-21           0.380000                               2   \n",
       "2      2019-06-23           1.373221                               1   \n",
       "3      2019-07-05           4.640000                               1   \n",
       "5      2019-06-22           0.590000                               1   \n",
       "7      2019-06-24           3.470000                               1   \n",
       "...           ...                ...                             ...   \n",
       "48890  2019-06-23           1.373221                               2   \n",
       "48891  2019-06-23           1.373221                               2   \n",
       "48892  2019-06-23           1.373221                               1   \n",
       "48893  2019-06-23           1.373221                               6   \n",
       "48894  2019-06-23           1.373221                               1   \n",
       "\n",
       "       availability_365 category  \n",
       "1                   355   Medium  \n",
       "2                   365   Medium  \n",
       "3                   194    Cheap  \n",
       "5                   129   Medium  \n",
       "7                   220    Cheap  \n",
       "...                 ...      ...  \n",
       "48890                 9    Cheap  \n",
       "48891                36    Cheap  \n",
       "48892                27    Cheap  \n",
       "48893                 2    Cheap  \n",
       "48894                23    Cheap  \n",
       "\n",
       "[34863 rows x 15 columns]"
      ]
     },
     "execution_count": 227,
     "metadata": {},
     "output_type": "execute_result"
    }
   ],
   "source": [
    "df.loc[df['last_review'] > '2019-01-01']"
   ]
  },
  {
   "cell_type": "markdown",
   "id": "b81fa867",
   "metadata": {},
   "source": [
    "#### jumlah data hasil filter"
   ]
  },
  {
   "cell_type": "code",
   "execution_count": 228,
   "id": "eca92219",
   "metadata": {},
   "outputs": [
    {
     "data": {
      "text/plain": [
       "(34863, 15)"
      ]
     },
     "execution_count": 228,
     "metadata": {},
     "output_type": "execute_result"
    }
   ],
   "source": [
    "df.loc[df['last_review'] > '2019-01-01'].shape"
   ]
  },
  {
   "cell_type": "markdown",
   "id": "6e6e9972",
   "metadata": {},
   "source": [
    "### 8. Visualisasikan Price untuk membandingkan harga kamar yang tersedia "
   ]
  },
  {
   "cell_type": "code",
   "execution_count": 229,
   "id": "875440ca",
   "metadata": {},
   "outputs": [
    {
     "data": {
      "text/plain": [
       "Cheap        31910\n",
       "Medium       15941\n",
       "Expensive     1044\n",
       "Name: category, dtype: int64"
      ]
     },
     "execution_count": 229,
     "metadata": {},
     "output_type": "execute_result"
    }
   ],
   "source": [
    "df['category'].value_counts()"
   ]
  },
  {
   "cell_type": "markdown",
   "id": "59ee3231",
   "metadata": {},
   "source": [
    "#### Visualisasi menggunakan Histogram"
   ]
  },
  {
   "cell_type": "code",
   "execution_count": 230,
   "id": "062d1371",
   "metadata": {
    "scrolled": true
   },
   "outputs": [
    {
     "data": {
      "image/png": "[encoded data removed]",
      "text/plain": [
       "<Figure size 432x288 with 1 Axes>"
      ]
     },
     "metadata": {
      "needs_background": "light"
     },
     "output_type": "display_data"
    }
   ],
   "source": [
    "hist = df['category']\n",
    "\n",
    "plt.hist(hist, bins=3, edgecolor='k')\n",
    "plt.title('Perbandingan Harga Category', size=20, pad=20)\n",
    "plt.show()"
   ]
  },
  {
   "cell_type": "markdown",
   "id": "3573096b",
   "metadata": {},
   "source": [
    "### Visualisasi Keseluruhan"
   ]
  },
  {
   "cell_type": "code",
   "execution_count": 235,
   "id": "e4d9fe00",
   "metadata": {},
   "outputs": [
    {
     "data": {
      "image/png": "[encoded data removed]",
      "text/plain": [
       "<Figure size 1080x720 with 4 Axes>"
      ]
     },
     "metadata": {
      "needs_background": "light"
     },
     "output_type": "display_data"
    }
   ],
   "source": [
    "import seaborn as sns\n",
    "plt.figure(figsize=(15,10))\n",
    "\n",
    "ax=plt.subplot(221)\n",
    "sns.countplot(x='neighbourhood_group', data=df)\n",
    "\n",
    "ax=plt.subplot(222)\n",
    "sns.countplot(x='room_type', data=df)\n",
    "\n",
    "ax=plt.subplot(223)\n",
    "sns.countplot(x='category', data=df)\n",
    "\n",
    "ax=plt.subplot(224)\n",
    "sns.countplot(x='neighbourhood', order=df.neighbourhood.value_counts().iloc[:10].index, data=df)\n",
    "ax.set_xticklabels(ax.get_xticklabels(), rotation=40, ha=\"right\")\n",
    "\n",
    "plt.show()"
   ]
  }
 ],
 "metadata": {
  "kernelspec": {
   "display_name": "Python 3",
   "language": "python",
   "name": "python3"
  },
  "language_info": {
   "codemirror_mode": {
    "name": "ipython",
    "version": 3
   },
   "file_extension": ".py",
   "mimetype": "text/x-python",
   "name": "python",
   "nbconvert_exporter": "python",
   "pygments_lexer": "ipython3",
   "version": "3.8.8"
  }
 },
 "nbformat": 4,
 "nbformat_minor": 5
}
