{
 "cells": [
  {
   "cell_type": "markdown",
   "id": "38d46af1",
   "metadata": {},
   "source": [
    "# Machine Learning Indonesian.AI\n",
    "Pertemuan - 6 Decision Tree dan Random forest"
   ]
  },
  {
   "cell_type": "markdown",
   "id": "4ff56769",
   "metadata": {},
   "source": [
    "## Libraries"
   ]
  },
  {
   "cell_type": "code",
   "execution_count": 239,
   "id": "2dea1902",
   "metadata": {},
   "outputs": [],
   "source": [
    "import numpy as np\n",
    "import pandas as pd\n",
    "from matplotlib import pyplot as plt\n",
    "import seaborn as sns\n",
    "\n",
    "plt.style.use('ggplot')"
   ]
  },
  {
   "cell_type": "markdown",
   "id": "0456eea2",
   "metadata": {},
   "source": [
    "## Load Datasets"
   ]
  },
  {
   "cell_type": "code",
   "execution_count": 240,
   "id": "7172febc",
   "metadata": {},
   "outputs": [
    {
     "data": {
      "text/html": [
       "<div>\n",
       "<style scoped>\n",
       "    .dataframe tbody tr th:only-of-type {\n",
       "        vertical-align: middle;\n",
       "    }\n",
       "\n",
       "    .dataframe tbody tr th {\n",
       "        vertical-align: top;\n",
       "    }\n",
       "\n",
       "    .dataframe thead th {\n",
       "        text-align: right;\n",
       "    }\n",
       "</style>\n",
       "<table border=\"1\" class=\"dataframe\">\n",
       "  <thead>\n",
       "    <tr style=\"text-align: right;\">\n",
       "      <th></th>\n",
       "      <th>age</th>\n",
       "      <th>job</th>\n",
       "      <th>marital</th>\n",
       "      <th>education</th>\n",
       "      <th>default</th>\n",
       "      <th>housing</th>\n",
       "      <th>loan</th>\n",
       "      <th>contact</th>\n",
       "      <th>month</th>\n",
       "      <th>day_of_week</th>\n",
       "      <th>...</th>\n",
       "      <th>campaign</th>\n",
       "      <th>pdays</th>\n",
       "      <th>previous</th>\n",
       "      <th>poutcome</th>\n",
       "      <th>emp_var_rate</th>\n",
       "      <th>cons_price_idx</th>\n",
       "      <th>cons_conf_idx</th>\n",
       "      <th>euribor3m</th>\n",
       "      <th>nr_employed</th>\n",
       "      <th>y</th>\n",
       "    </tr>\n",
       "  </thead>\n",
       "  <tbody>\n",
       "    <tr>\n",
       "      <th>0</th>\n",
       "      <td>44</td>\n",
       "      <td>blue-collar</td>\n",
       "      <td>married</td>\n",
       "      <td>basic.4y</td>\n",
       "      <td>unknown</td>\n",
       "      <td>yes</td>\n",
       "      <td>no</td>\n",
       "      <td>cellular</td>\n",
       "      <td>aug</td>\n",
       "      <td>thu</td>\n",
       "      <td>...</td>\n",
       "      <td>1</td>\n",
       "      <td>999</td>\n",
       "      <td>0</td>\n",
       "      <td>nonexistent</td>\n",
       "      <td>1.4</td>\n",
       "      <td>93.444</td>\n",
       "      <td>-36.1</td>\n",
       "      <td>4.963</td>\n",
       "      <td>5228.1</td>\n",
       "      <td>0</td>\n",
       "    </tr>\n",
       "    <tr>\n",
       "      <th>1</th>\n",
       "      <td>53</td>\n",
       "      <td>technician</td>\n",
       "      <td>married</td>\n",
       "      <td>unknown</td>\n",
       "      <td>no</td>\n",
       "      <td>no</td>\n",
       "      <td>no</td>\n",
       "      <td>cellular</td>\n",
       "      <td>nov</td>\n",
       "      <td>fri</td>\n",
       "      <td>...</td>\n",
       "      <td>1</td>\n",
       "      <td>999</td>\n",
       "      <td>0</td>\n",
       "      <td>nonexistent</td>\n",
       "      <td>-0.1</td>\n",
       "      <td>93.200</td>\n",
       "      <td>-42.0</td>\n",
       "      <td>4.021</td>\n",
       "      <td>5195.8</td>\n",
       "      <td>0</td>\n",
       "    </tr>\n",
       "    <tr>\n",
       "      <th>2</th>\n",
       "      <td>28</td>\n",
       "      <td>management</td>\n",
       "      <td>single</td>\n",
       "      <td>university.degree</td>\n",
       "      <td>no</td>\n",
       "      <td>yes</td>\n",
       "      <td>no</td>\n",
       "      <td>cellular</td>\n",
       "      <td>jun</td>\n",
       "      <td>thu</td>\n",
       "      <td>...</td>\n",
       "      <td>3</td>\n",
       "      <td>6</td>\n",
       "      <td>2</td>\n",
       "      <td>success</td>\n",
       "      <td>-1.7</td>\n",
       "      <td>94.055</td>\n",
       "      <td>-39.8</td>\n",
       "      <td>0.729</td>\n",
       "      <td>4991.6</td>\n",
       "      <td>1</td>\n",
       "    </tr>\n",
       "    <tr>\n",
       "      <th>3</th>\n",
       "      <td>39</td>\n",
       "      <td>services</td>\n",
       "      <td>married</td>\n",
       "      <td>high.school</td>\n",
       "      <td>no</td>\n",
       "      <td>no</td>\n",
       "      <td>no</td>\n",
       "      <td>cellular</td>\n",
       "      <td>apr</td>\n",
       "      <td>fri</td>\n",
       "      <td>...</td>\n",
       "      <td>2</td>\n",
       "      <td>999</td>\n",
       "      <td>0</td>\n",
       "      <td>nonexistent</td>\n",
       "      <td>-1.8</td>\n",
       "      <td>93.075</td>\n",
       "      <td>-47.1</td>\n",
       "      <td>1.405</td>\n",
       "      <td>5099.1</td>\n",
       "      <td>0</td>\n",
       "    </tr>\n",
       "    <tr>\n",
       "      <th>4</th>\n",
       "      <td>55</td>\n",
       "      <td>retired</td>\n",
       "      <td>married</td>\n",
       "      <td>basic.4y</td>\n",
       "      <td>no</td>\n",
       "      <td>yes</td>\n",
       "      <td>no</td>\n",
       "      <td>cellular</td>\n",
       "      <td>aug</td>\n",
       "      <td>fri</td>\n",
       "      <td>...</td>\n",
       "      <td>1</td>\n",
       "      <td>3</td>\n",
       "      <td>1</td>\n",
       "      <td>success</td>\n",
       "      <td>-2.9</td>\n",
       "      <td>92.201</td>\n",
       "      <td>-31.4</td>\n",
       "      <td>0.869</td>\n",
       "      <td>5076.2</td>\n",
       "      <td>1</td>\n",
       "    </tr>\n",
       "  </tbody>\n",
       "</table>\n",
       "<p>5 rows × 21 columns</p>\n",
       "</div>"
      ],
      "text/plain": [
       "   age          job  marital          education  default housing loan  \\\n",
       "0   44  blue-collar  married           basic.4y  unknown     yes   no   \n",
       "1   53   technician  married            unknown       no      no   no   \n",
       "2   28   management   single  university.degree       no     yes   no   \n",
       "3   39     services  married        high.school       no      no   no   \n",
       "4   55      retired  married           basic.4y       no     yes   no   \n",
       "\n",
       "    contact month day_of_week  ...  campaign  pdays  previous     poutcome  \\\n",
       "0  cellular   aug         thu  ...         1    999         0  nonexistent   \n",
       "1  cellular   nov         fri  ...         1    999         0  nonexistent   \n",
       "2  cellular   jun         thu  ...         3      6         2      success   \n",
       "3  cellular   apr         fri  ...         2    999         0  nonexistent   \n",
       "4  cellular   aug         fri  ...         1      3         1      success   \n",
       "\n",
       "  emp_var_rate  cons_price_idx  cons_conf_idx  euribor3m  nr_employed  y  \n",
       "0          1.4          93.444          -36.1      4.963       5228.1  0  \n",
       "1         -0.1          93.200          -42.0      4.021       5195.8  0  \n",
       "2         -1.7          94.055          -39.8      0.729       4991.6  1  \n",
       "3         -1.8          93.075          -47.1      1.405       5099.1  0  \n",
       "4         -2.9          92.201          -31.4      0.869       5076.2  1  \n",
       "\n",
       "[5 rows x 21 columns]"
      ]
     },
     "execution_count": 240,
     "metadata": {},
     "output_type": "execute_result"
    }
   ],
   "source": [
    "df = pd.read_csv('banking.csv')\n",
    "df.head()"
   ]
  },
  {
   "cell_type": "markdown",
   "id": "678f059a",
   "metadata": {},
   "source": [
    "## Explore data"
   ]
  },
  {
   "cell_type": "code",
   "execution_count": 241,
   "id": "2d35a1c0",
   "metadata": {},
   "outputs": [
    {
     "name": "stdout",
     "output_type": "stream",
     "text": [
      "Total data : 41188\n",
      "Total column : 21\n"
     ]
    }
   ],
   "source": [
    "print(f'Total data : {df.shape[0]}')\n",
    "print(f'Total column : {df.shape[1]}')"
   ]
  },
  {
   "cell_type": "code",
   "execution_count": 242,
   "id": "36a1c6b5",
   "metadata": {},
   "outputs": [
    {
     "name": "stdout",
     "output_type": "stream",
     "text": [
      "<class 'pandas.core.frame.DataFrame'>\n",
      "RangeIndex: 41188 entries, 0 to 41187\n",
      "Data columns (total 21 columns):\n",
      " #   Column          Non-Null Count  Dtype  \n",
      "---  ------          --------------  -----  \n",
      " 0   age             41188 non-null  int64  \n",
      " 1   job             41188 non-null  object \n",
      " 2   marital         41188 non-null  object \n",
      " 3   education       41188 non-null  object \n",
      " 4   default         41188 non-null  object \n",
      " 5   housing         41188 non-null  object \n",
      " 6   loan            41188 non-null  object \n",
      " 7   contact         41188 non-null  object \n",
      " 8   month           41188 non-null  object \n",
      " 9   day_of_week     41188 non-null  object \n",
      " 10  duration        41188 non-null  int64  \n",
      " 11  campaign        41188 non-null  int64  \n",
      " 12  pdays           41188 non-null  int64  \n",
      " 13  previous        41188 non-null  int64  \n",
      " 14  poutcome        41188 non-null  object \n",
      " 15  emp_var_rate    41188 non-null  float64\n",
      " 16  cons_price_idx  41188 non-null  float64\n",
      " 17  cons_conf_idx   41188 non-null  float64\n",
      " 18  euribor3m       41188 non-null  float64\n",
      " 19  nr_employed     41188 non-null  float64\n",
      " 20  y               41188 non-null  int64  \n",
      "dtypes: float64(5), int64(6), object(10)\n",
      "memory usage: 6.6+ MB\n"
     ]
    }
   ],
   "source": [
    "df.info()"
   ]
  },
  {
   "cell_type": "code",
   "execution_count": 243,
   "id": "1211b360",
   "metadata": {},
   "outputs": [
    {
     "data": {
      "text/html": [
       "<div>\n",
       "<style scoped>\n",
       "    .dataframe tbody tr th:only-of-type {\n",
       "        vertical-align: middle;\n",
       "    }\n",
       "\n",
       "    .dataframe tbody tr th {\n",
       "        vertical-align: top;\n",
       "    }\n",
       "\n",
       "    .dataframe thead th {\n",
       "        text-align: right;\n",
       "    }\n",
       "</style>\n",
       "<table border=\"1\" class=\"dataframe\">\n",
       "  <thead>\n",
       "    <tr style=\"text-align: right;\">\n",
       "      <th></th>\n",
       "      <th>count</th>\n",
       "      <th>mean</th>\n",
       "      <th>std</th>\n",
       "      <th>min</th>\n",
       "      <th>25%</th>\n",
       "      <th>50%</th>\n",
       "      <th>75%</th>\n",
       "      <th>max</th>\n",
       "    </tr>\n",
       "  </thead>\n",
       "  <tbody>\n",
       "    <tr>\n",
       "      <th>age</th>\n",
       "      <td>41188.0</td>\n",
       "      <td>40.024060</td>\n",
       "      <td>10.421250</td>\n",
       "      <td>17.000</td>\n",
       "      <td>32.000</td>\n",
       "      <td>38.000</td>\n",
       "      <td>47.000</td>\n",
       "      <td>98.000</td>\n",
       "    </tr>\n",
       "    <tr>\n",
       "      <th>duration</th>\n",
       "      <td>41188.0</td>\n",
       "      <td>258.285010</td>\n",
       "      <td>259.279249</td>\n",
       "      <td>0.000</td>\n",
       "      <td>102.000</td>\n",
       "      <td>180.000</td>\n",
       "      <td>319.000</td>\n",
       "      <td>4918.000</td>\n",
       "    </tr>\n",
       "    <tr>\n",
       "      <th>campaign</th>\n",
       "      <td>41188.0</td>\n",
       "      <td>2.567593</td>\n",
       "      <td>2.770014</td>\n",
       "      <td>1.000</td>\n",
       "      <td>1.000</td>\n",
       "      <td>2.000</td>\n",
       "      <td>3.000</td>\n",
       "      <td>56.000</td>\n",
       "    </tr>\n",
       "    <tr>\n",
       "      <th>pdays</th>\n",
       "      <td>41188.0</td>\n",
       "      <td>962.475454</td>\n",
       "      <td>186.910907</td>\n",
       "      <td>0.000</td>\n",
       "      <td>999.000</td>\n",
       "      <td>999.000</td>\n",
       "      <td>999.000</td>\n",
       "      <td>999.000</td>\n",
       "    </tr>\n",
       "    <tr>\n",
       "      <th>previous</th>\n",
       "      <td>41188.0</td>\n",
       "      <td>0.172963</td>\n",
       "      <td>0.494901</td>\n",
       "      <td>0.000</td>\n",
       "      <td>0.000</td>\n",
       "      <td>0.000</td>\n",
       "      <td>0.000</td>\n",
       "      <td>7.000</td>\n",
       "    </tr>\n",
       "    <tr>\n",
       "      <th>emp_var_rate</th>\n",
       "      <td>41188.0</td>\n",
       "      <td>0.081886</td>\n",
       "      <td>1.570960</td>\n",
       "      <td>-3.400</td>\n",
       "      <td>-1.800</td>\n",
       "      <td>1.100</td>\n",
       "      <td>1.400</td>\n",
       "      <td>1.400</td>\n",
       "    </tr>\n",
       "    <tr>\n",
       "      <th>cons_price_idx</th>\n",
       "      <td>41188.0</td>\n",
       "      <td>93.575664</td>\n",
       "      <td>0.578840</td>\n",
       "      <td>92.201</td>\n",
       "      <td>93.075</td>\n",
       "      <td>93.749</td>\n",
       "      <td>93.994</td>\n",
       "      <td>94.767</td>\n",
       "    </tr>\n",
       "    <tr>\n",
       "      <th>cons_conf_idx</th>\n",
       "      <td>41188.0</td>\n",
       "      <td>-40.502600</td>\n",
       "      <td>4.628198</td>\n",
       "      <td>-50.800</td>\n",
       "      <td>-42.700</td>\n",
       "      <td>-41.800</td>\n",
       "      <td>-36.400</td>\n",
       "      <td>-26.900</td>\n",
       "    </tr>\n",
       "    <tr>\n",
       "      <th>euribor3m</th>\n",
       "      <td>41188.0</td>\n",
       "      <td>3.621291</td>\n",
       "      <td>1.734447</td>\n",
       "      <td>0.634</td>\n",
       "      <td>1.344</td>\n",
       "      <td>4.857</td>\n",
       "      <td>4.961</td>\n",
       "      <td>5.045</td>\n",
       "    </tr>\n",
       "    <tr>\n",
       "      <th>nr_employed</th>\n",
       "      <td>41188.0</td>\n",
       "      <td>5167.035911</td>\n",
       "      <td>72.251528</td>\n",
       "      <td>4963.600</td>\n",
       "      <td>5099.100</td>\n",
       "      <td>5191.000</td>\n",
       "      <td>5228.100</td>\n",
       "      <td>5228.100</td>\n",
       "    </tr>\n",
       "    <tr>\n",
       "      <th>y</th>\n",
       "      <td>41188.0</td>\n",
       "      <td>0.112654</td>\n",
       "      <td>0.316173</td>\n",
       "      <td>0.000</td>\n",
       "      <td>0.000</td>\n",
       "      <td>0.000</td>\n",
       "      <td>0.000</td>\n",
       "      <td>1.000</td>\n",
       "    </tr>\n",
       "  </tbody>\n",
       "</table>\n",
       "</div>"
      ],
      "text/plain": [
       "                  count         mean         std       min       25%  \\\n",
       "age             41188.0    40.024060   10.421250    17.000    32.000   \n",
       "duration        41188.0   258.285010  259.279249     0.000   102.000   \n",
       "campaign        41188.0     2.567593    2.770014     1.000     1.000   \n",
       "pdays           41188.0   962.475454  186.910907     0.000   999.000   \n",
       "previous        41188.0     0.172963    0.494901     0.000     0.000   \n",
       "emp_var_rate    41188.0     0.081886    1.570960    -3.400    -1.800   \n",
       "cons_price_idx  41188.0    93.575664    0.578840    92.201    93.075   \n",
       "cons_conf_idx   41188.0   -40.502600    4.628198   -50.800   -42.700   \n",
       "euribor3m       41188.0     3.621291    1.734447     0.634     1.344   \n",
       "nr_employed     41188.0  5167.035911   72.251528  4963.600  5099.100   \n",
       "y               41188.0     0.112654    0.316173     0.000     0.000   \n",
       "\n",
       "                     50%       75%       max  \n",
       "age               38.000    47.000    98.000  \n",
       "duration         180.000   319.000  4918.000  \n",
       "campaign           2.000     3.000    56.000  \n",
       "pdays            999.000   999.000   999.000  \n",
       "previous           0.000     0.000     7.000  \n",
       "emp_var_rate       1.100     1.400     1.400  \n",
       "cons_price_idx    93.749    93.994    94.767  \n",
       "cons_conf_idx    -41.800   -36.400   -26.900  \n",
       "euribor3m          4.857     4.961     5.045  \n",
       "nr_employed     5191.000  5228.100  5228.100  \n",
       "y                  0.000     0.000     1.000  "
      ]
     },
     "execution_count": 243,
     "metadata": {},
     "output_type": "execute_result"
    }
   ],
   "source": [
    "df.describe().T"
   ]
  },
  {
   "cell_type": "markdown",
   "id": "2daa1721",
   "metadata": {},
   "source": [
    "### Check unique data"
   ]
  },
  {
   "cell_type": "code",
   "execution_count": 244,
   "id": "e87cc5e2",
   "metadata": {},
   "outputs": [
    {
     "data": {
      "text/plain": [
       "age                 78\n",
       "job                 12\n",
       "marital              4\n",
       "education            8\n",
       "default              3\n",
       "housing              3\n",
       "loan                 3\n",
       "contact              2\n",
       "month               10\n",
       "day_of_week          5\n",
       "duration          1544\n",
       "campaign            42\n",
       "pdays               27\n",
       "previous             8\n",
       "poutcome             3\n",
       "emp_var_rate        10\n",
       "cons_price_idx      26\n",
       "cons_conf_idx       26\n",
       "euribor3m          316\n",
       "nr_employed         11\n",
       "y                    2\n",
       "dtype: int64"
      ]
     },
     "execution_count": 244,
     "metadata": {},
     "output_type": "execute_result"
    }
   ],
   "source": [
    "df.nunique()"
   ]
  },
  {
   "cell_type": "markdown",
   "id": "4af56f63",
   "metadata": {},
   "source": [
    "### Missing Value"
   ]
  },
  {
   "cell_type": "code",
   "execution_count": 245,
   "id": "7843cd0c",
   "metadata": {},
   "outputs": [
    {
     "data": {
      "text/plain": [
       "age               0\n",
       "job               0\n",
       "marital           0\n",
       "education         0\n",
       "default           0\n",
       "housing           0\n",
       "loan              0\n",
       "contact           0\n",
       "month             0\n",
       "day_of_week       0\n",
       "duration          0\n",
       "campaign          0\n",
       "pdays             0\n",
       "previous          0\n",
       "poutcome          0\n",
       "emp_var_rate      0\n",
       "cons_price_idx    0\n",
       "cons_conf_idx     0\n",
       "euribor3m         0\n",
       "nr_employed       0\n",
       "y                 0\n",
       "dtype: int64"
      ]
     },
     "execution_count": 245,
     "metadata": {},
     "output_type": "execute_result"
    }
   ],
   "source": [
    "df.isna().sum()"
   ]
  },
  {
   "cell_type": "markdown",
   "id": "a58eda97",
   "metadata": {},
   "source": [
    "### feature job"
   ]
  },
  {
   "cell_type": "code",
   "execution_count": 246,
   "id": "e1d826cf",
   "metadata": {
    "scrolled": false
   },
   "outputs": [
    {
     "name": "stdout",
     "output_type": "stream",
     "text": [
      "List job : \n",
      "\n",
      "blue-collar\n",
      "technician\n",
      "management\n",
      "services\n",
      "retired\n",
      "admin.\n",
      "housemaid\n",
      "unemployed\n",
      "entrepreneur\n",
      "self-employed\n",
      "unknown\n",
      "student\n"
     ]
    }
   ],
   "source": [
    "print('List job : \\n')\n",
    "x = [print(i) for i in df['job'].unique().tolist()]"
   ]
  },
  {
   "cell_type": "markdown",
   "id": "b52b41a2",
   "metadata": {},
   "source": [
    "#### Visualization"
   ]
  },
  {
   "cell_type": "code",
   "execution_count": 247,
   "id": "4667a28a",
   "metadata": {},
   "outputs": [
    {
     "data": {
      "image/png": "[encoded data removed]",
      "text/plain": [
       "<Figure size 1080x576 with 1 Axes>"
      ]
     },
     "metadata": {},
     "output_type": "display_data"
    }
   ],
   "source": [
    "plt.figure(figsize=(15,8))\n",
    "sns.countplot(x='job', data=df)\n",
    "plt.xticks(rotation=45)\n",
    "plt.show()"
   ]
  },
  {
   "cell_type": "code",
   "execution_count": 248,
   "id": "c7fab990",
   "metadata": {},
   "outputs": [
    {
     "data": {
      "text/html": [
       "<div>\n",
       "<style scoped>\n",
       "    .dataframe tbody tr th:only-of-type {\n",
       "        vertical-align: middle;\n",
       "    }\n",
       "\n",
       "    .dataframe tbody tr th {\n",
       "        vertical-align: top;\n",
       "    }\n",
       "\n",
       "    .dataframe thead th {\n",
       "        text-align: right;\n",
       "    }\n",
       "</style>\n",
       "<table border=\"1\" class=\"dataframe\">\n",
       "  <thead>\n",
       "    <tr style=\"text-align: right;\">\n",
       "      <th>job</th>\n",
       "      <th>admin.</th>\n",
       "      <th>blue-collar</th>\n",
       "      <th>entrepreneur</th>\n",
       "      <th>housemaid</th>\n",
       "      <th>management</th>\n",
       "      <th>retired</th>\n",
       "      <th>self-employed</th>\n",
       "      <th>services</th>\n",
       "      <th>student</th>\n",
       "      <th>technician</th>\n",
       "      <th>unemployed</th>\n",
       "      <th>unknown</th>\n",
       "    </tr>\n",
       "  </thead>\n",
       "  <tbody>\n",
       "    <tr>\n",
       "      <th>age</th>\n",
       "      <td>38.187296</td>\n",
       "      <td>39.555760</td>\n",
       "      <td>41.723214</td>\n",
       "      <td>45.500000</td>\n",
       "      <td>42.362859</td>\n",
       "      <td>62.027326</td>\n",
       "      <td>39.949331</td>\n",
       "      <td>37.926430</td>\n",
       "      <td>25.894857</td>\n",
       "      <td>38.507638</td>\n",
       "      <td>39.733728</td>\n",
       "      <td>45.563636</td>\n",
       "    </tr>\n",
       "    <tr>\n",
       "      <th>duration</th>\n",
       "      <td>254.312128</td>\n",
       "      <td>264.542360</td>\n",
       "      <td>263.267857</td>\n",
       "      <td>250.454717</td>\n",
       "      <td>257.058140</td>\n",
       "      <td>273.712209</td>\n",
       "      <td>264.142153</td>\n",
       "      <td>258.398085</td>\n",
       "      <td>283.683429</td>\n",
       "      <td>250.232241</td>\n",
       "      <td>249.451677</td>\n",
       "      <td>239.675758</td>\n",
       "    </tr>\n",
       "    <tr>\n",
       "      <th>campaign</th>\n",
       "      <td>2.623489</td>\n",
       "      <td>2.558461</td>\n",
       "      <td>2.535714</td>\n",
       "      <td>2.639623</td>\n",
       "      <td>2.476060</td>\n",
       "      <td>2.476744</td>\n",
       "      <td>2.660802</td>\n",
       "      <td>2.587805</td>\n",
       "      <td>2.104000</td>\n",
       "      <td>2.577339</td>\n",
       "      <td>2.564103</td>\n",
       "      <td>2.648485</td>\n",
       "    </tr>\n",
       "    <tr>\n",
       "      <th>pdays</th>\n",
       "      <td>954.319229</td>\n",
       "      <td>985.160363</td>\n",
       "      <td>981.267170</td>\n",
       "      <td>960.579245</td>\n",
       "      <td>962.647059</td>\n",
       "      <td>897.936047</td>\n",
       "      <td>976.621393</td>\n",
       "      <td>979.974049</td>\n",
       "      <td>840.217143</td>\n",
       "      <td>964.408127</td>\n",
       "      <td>935.316568</td>\n",
       "      <td>938.727273</td>\n",
       "    </tr>\n",
       "    <tr>\n",
       "      <th>previous</th>\n",
       "      <td>0.189023</td>\n",
       "      <td>0.122542</td>\n",
       "      <td>0.138736</td>\n",
       "      <td>0.137736</td>\n",
       "      <td>0.185021</td>\n",
       "      <td>0.327326</td>\n",
       "      <td>0.143561</td>\n",
       "      <td>0.154951</td>\n",
       "      <td>0.524571</td>\n",
       "      <td>0.153789</td>\n",
       "      <td>0.199211</td>\n",
       "      <td>0.154545</td>\n",
       "    </tr>\n",
       "    <tr>\n",
       "      <th>emp_var_rate</th>\n",
       "      <td>0.015563</td>\n",
       "      <td>0.248995</td>\n",
       "      <td>0.158723</td>\n",
       "      <td>0.433396</td>\n",
       "      <td>-0.012688</td>\n",
       "      <td>-0.698314</td>\n",
       "      <td>0.094159</td>\n",
       "      <td>0.175359</td>\n",
       "      <td>-1.408000</td>\n",
       "      <td>0.274566</td>\n",
       "      <td>-0.111736</td>\n",
       "      <td>0.357879</td>\n",
       "    </tr>\n",
       "    <tr>\n",
       "      <th>cons_price_idx</th>\n",
       "      <td>93.534054</td>\n",
       "      <td>93.656656</td>\n",
       "      <td>93.605372</td>\n",
       "      <td>93.676576</td>\n",
       "      <td>93.522755</td>\n",
       "      <td>93.430786</td>\n",
       "      <td>93.559982</td>\n",
       "      <td>93.634659</td>\n",
       "      <td>93.331613</td>\n",
       "      <td>93.561471</td>\n",
       "      <td>93.563781</td>\n",
       "      <td>93.718942</td>\n",
       "    </tr>\n",
       "    <tr>\n",
       "      <th>cons_conf_idx</th>\n",
       "      <td>-40.245433</td>\n",
       "      <td>-41.375816</td>\n",
       "      <td>-41.283654</td>\n",
       "      <td>-39.495283</td>\n",
       "      <td>-40.489466</td>\n",
       "      <td>-38.573081</td>\n",
       "      <td>-40.488107</td>\n",
       "      <td>-41.290048</td>\n",
       "      <td>-40.187543</td>\n",
       "      <td>-39.927569</td>\n",
       "      <td>-40.007594</td>\n",
       "      <td>-38.797879</td>\n",
       "    </tr>\n",
       "    <tr>\n",
       "      <th>euribor3m</th>\n",
       "      <td>3.550274</td>\n",
       "      <td>3.771996</td>\n",
       "      <td>3.791120</td>\n",
       "      <td>4.009645</td>\n",
       "      <td>3.611316</td>\n",
       "      <td>2.770066</td>\n",
       "      <td>3.689376</td>\n",
       "      <td>3.699187</td>\n",
       "      <td>1.884224</td>\n",
       "      <td>3.820401</td>\n",
       "      <td>3.466583</td>\n",
       "      <td>3.949033</td>\n",
       "    </tr>\n",
       "    <tr>\n",
       "      <th>nr_employed</th>\n",
       "      <td>5164.125350</td>\n",
       "      <td>5175.615150</td>\n",
       "      <td>5176.313530</td>\n",
       "      <td>5179.529623</td>\n",
       "      <td>5166.650513</td>\n",
       "      <td>5122.262151</td>\n",
       "      <td>5170.674384</td>\n",
       "      <td>5171.600126</td>\n",
       "      <td>5085.939086</td>\n",
       "      <td>5175.648391</td>\n",
       "      <td>5157.156509</td>\n",
       "      <td>5172.931818</td>\n",
       "    </tr>\n",
       "    <tr>\n",
       "      <th>y</th>\n",
       "      <td>0.129726</td>\n",
       "      <td>0.068943</td>\n",
       "      <td>0.085165</td>\n",
       "      <td>0.100000</td>\n",
       "      <td>0.112175</td>\n",
       "      <td>0.252326</td>\n",
       "      <td>0.104856</td>\n",
       "      <td>0.081381</td>\n",
       "      <td>0.314286</td>\n",
       "      <td>0.108260</td>\n",
       "      <td>0.142012</td>\n",
       "      <td>0.112121</td>\n",
       "    </tr>\n",
       "  </tbody>\n",
       "</table>\n",
       "</div>"
      ],
      "text/plain": [
       "job                  admin.  blue-collar  entrepreneur    housemaid  \\\n",
       "age               38.187296    39.555760     41.723214    45.500000   \n",
       "duration         254.312128   264.542360    263.267857   250.454717   \n",
       "campaign           2.623489     2.558461      2.535714     2.639623   \n",
       "pdays            954.319229   985.160363    981.267170   960.579245   \n",
       "previous           0.189023     0.122542      0.138736     0.137736   \n",
       "emp_var_rate       0.015563     0.248995      0.158723     0.433396   \n",
       "cons_price_idx    93.534054    93.656656     93.605372    93.676576   \n",
       "cons_conf_idx    -40.245433   -41.375816    -41.283654   -39.495283   \n",
       "euribor3m          3.550274     3.771996      3.791120     4.009645   \n",
       "nr_employed     5164.125350  5175.615150   5176.313530  5179.529623   \n",
       "y                  0.129726     0.068943      0.085165     0.100000   \n",
       "\n",
       "job              management      retired  self-employed     services  \\\n",
       "age               42.362859    62.027326      39.949331    37.926430   \n",
       "duration         257.058140   273.712209     264.142153   258.398085   \n",
       "campaign           2.476060     2.476744       2.660802     2.587805   \n",
       "pdays            962.647059   897.936047     976.621393   979.974049   \n",
       "previous           0.185021     0.327326       0.143561     0.154951   \n",
       "emp_var_rate      -0.012688    -0.698314       0.094159     0.175359   \n",
       "cons_price_idx    93.522755    93.430786      93.559982    93.634659   \n",
       "cons_conf_idx    -40.489466   -38.573081     -40.488107   -41.290048   \n",
       "euribor3m          3.611316     2.770066       3.689376     3.699187   \n",
       "nr_employed     5166.650513  5122.262151    5170.674384  5171.600126   \n",
       "y                  0.112175     0.252326       0.104856     0.081381   \n",
       "\n",
       "job                 student   technician   unemployed      unknown  \n",
       "age               25.894857    38.507638    39.733728    45.563636  \n",
       "duration         283.683429   250.232241   249.451677   239.675758  \n",
       "campaign           2.104000     2.577339     2.564103     2.648485  \n",
       "pdays            840.217143   964.408127   935.316568   938.727273  \n",
       "previous           0.524571     0.153789     0.199211     0.154545  \n",
       "emp_var_rate      -1.408000     0.274566    -0.111736     0.357879  \n",
       "cons_price_idx    93.331613    93.561471    93.563781    93.718942  \n",
       "cons_conf_idx    -40.187543   -39.927569   -40.007594   -38.797879  \n",
       "euribor3m          1.884224     3.820401     3.466583     3.949033  \n",
       "nr_employed     5085.939086  5175.648391  5157.156509  5172.931818  \n",
       "y                  0.314286     0.108260     0.142012     0.112121  "
      ]
     },
     "execution_count": 248,
     "metadata": {},
     "output_type": "execute_result"
    }
   ],
   "source": [
    "df.groupby('job').mean().T"
   ]
  },
  {
   "cell_type": "markdown",
   "id": "08059ec6",
   "metadata": {},
   "source": [
    "### feature marital"
   ]
  },
  {
   "cell_type": "code",
   "execution_count": 249,
   "id": "ac534bc0",
   "metadata": {},
   "outputs": [
    {
     "data": {
      "image/png": "[encoded data removed]",
      "text/plain": [
       "<Figure size 720x576 with 1 Axes>"
      ]
     },
     "metadata": {},
     "output_type": "display_data"
    }
   ],
   "source": [
    "plt.figure(figsize=(10,8))\n",
    "sns.countplot(x='marital', data=df)\n",
    "plt.show()"
   ]
  },
  {
   "cell_type": "code",
   "execution_count": 250,
   "id": "54ac9823",
   "metadata": {
    "scrolled": true
   },
   "outputs": [
    {
     "data": {
      "text/html": [
       "<div>\n",
       "<style scoped>\n",
       "    .dataframe tbody tr th:only-of-type {\n",
       "        vertical-align: middle;\n",
       "    }\n",
       "\n",
       "    .dataframe tbody tr th {\n",
       "        vertical-align: top;\n",
       "    }\n",
       "\n",
       "    .dataframe thead th {\n",
       "        text-align: right;\n",
       "    }\n",
       "</style>\n",
       "<table border=\"1\" class=\"dataframe\">\n",
       "  <thead>\n",
       "    <tr style=\"text-align: right;\">\n",
       "      <th>marital</th>\n",
       "      <th>divorced</th>\n",
       "      <th>married</th>\n",
       "      <th>single</th>\n",
       "      <th>unknown</th>\n",
       "    </tr>\n",
       "  </thead>\n",
       "  <tbody>\n",
       "    <tr>\n",
       "      <th>age</th>\n",
       "      <td>44.899393</td>\n",
       "      <td>42.307165</td>\n",
       "      <td>33.158714</td>\n",
       "      <td>40.275000</td>\n",
       "    </tr>\n",
       "    <tr>\n",
       "      <th>duration</th>\n",
       "      <td>253.790330</td>\n",
       "      <td>257.438623</td>\n",
       "      <td>261.524378</td>\n",
       "      <td>312.725000</td>\n",
       "    </tr>\n",
       "    <tr>\n",
       "      <th>campaign</th>\n",
       "      <td>2.613400</td>\n",
       "      <td>2.572810</td>\n",
       "      <td>2.533800</td>\n",
       "      <td>3.187500</td>\n",
       "    </tr>\n",
       "    <tr>\n",
       "      <th>pdays</th>\n",
       "      <td>968.639853</td>\n",
       "      <td>967.247673</td>\n",
       "      <td>949.909578</td>\n",
       "      <td>937.100000</td>\n",
       "    </tr>\n",
       "    <tr>\n",
       "      <th>previous</th>\n",
       "      <td>0.168690</td>\n",
       "      <td>0.155608</td>\n",
       "      <td>0.211359</td>\n",
       "      <td>0.275000</td>\n",
       "    </tr>\n",
       "    <tr>\n",
       "      <th>emp_var_rate</th>\n",
       "      <td>0.163985</td>\n",
       "      <td>0.183625</td>\n",
       "      <td>-0.167989</td>\n",
       "      <td>-0.221250</td>\n",
       "    </tr>\n",
       "    <tr>\n",
       "      <th>cons_price_idx</th>\n",
       "      <td>93.606563</td>\n",
       "      <td>93.597367</td>\n",
       "      <td>93.517300</td>\n",
       "      <td>93.471250</td>\n",
       "    </tr>\n",
       "    <tr>\n",
       "      <th>cons_conf_idx</th>\n",
       "      <td>-40.707069</td>\n",
       "      <td>-40.270659</td>\n",
       "      <td>-40.918698</td>\n",
       "      <td>-40.820000</td>\n",
       "    </tr>\n",
       "    <tr>\n",
       "      <th>euribor3m</th>\n",
       "      <td>3.715603</td>\n",
       "      <td>3.745832</td>\n",
       "      <td>3.317447</td>\n",
       "      <td>3.313038</td>\n",
       "    </tr>\n",
       "    <tr>\n",
       "      <th>nr_employed</th>\n",
       "      <td>5170.878643</td>\n",
       "      <td>5171.848772</td>\n",
       "      <td>5155.199265</td>\n",
       "      <td>5157.393750</td>\n",
       "    </tr>\n",
       "    <tr>\n",
       "      <th>y</th>\n",
       "      <td>0.103209</td>\n",
       "      <td>0.101573</td>\n",
       "      <td>0.140041</td>\n",
       "      <td>0.150000</td>\n",
       "    </tr>\n",
       "  </tbody>\n",
       "</table>\n",
       "</div>"
      ],
      "text/plain": [
       "marital            divorced      married       single      unknown\n",
       "age               44.899393    42.307165    33.158714    40.275000\n",
       "duration         253.790330   257.438623   261.524378   312.725000\n",
       "campaign           2.613400     2.572810     2.533800     3.187500\n",
       "pdays            968.639853   967.247673   949.909578   937.100000\n",
       "previous           0.168690     0.155608     0.211359     0.275000\n",
       "emp_var_rate       0.163985     0.183625    -0.167989    -0.221250\n",
       "cons_price_idx    93.606563    93.597367    93.517300    93.471250\n",
       "cons_conf_idx    -40.707069   -40.270659   -40.918698   -40.820000\n",
       "euribor3m          3.715603     3.745832     3.317447     3.313038\n",
       "nr_employed     5170.878643  5171.848772  5155.199265  5157.393750\n",
       "y                  0.103209     0.101573     0.140041     0.150000"
      ]
     },
     "execution_count": 250,
     "metadata": {},
     "output_type": "execute_result"
    }
   ],
   "source": [
    "df.groupby('marital').mean().T"
   ]
  },
  {
   "cell_type": "markdown",
   "id": "7c205900",
   "metadata": {},
   "source": [
    "### label data"
   ]
  },
  {
   "cell_type": "code",
   "execution_count": 251,
   "id": "1f29bdcd",
   "metadata": {},
   "outputs": [
    {
     "data": {
      "image/png": "[encoded data removed]",
      "text/plain": [
       "<Figure size 432x288 with 1 Axes>"
      ]
     },
     "metadata": {},
     "output_type": "display_data"
    },
    {
     "name": "stdout",
     "output_type": "stream",
     "text": [
      "0    36548\n",
      "1     4640\n",
      "Name: y, dtype: int64\n"
     ]
    }
   ],
   "source": [
    "sns.countplot(x='y', data=df)\n",
    "plt.rc('xtick', labelsize=14)\n",
    "plt.rc('ytick', labelsize=14)\n",
    "plt.title('Distribusi Y Label', fontsize=20, pad=20)\n",
    "plt.show()\n",
    "print(df.y.value_counts())"
   ]
  },
  {
   "cell_type": "markdown",
   "id": "1db286ab",
   "metadata": {},
   "source": [
    "## Data Preparation"
   ]
  },
  {
   "cell_type": "markdown",
   "id": "2f891869",
   "metadata": {},
   "source": [
    "### Handling Imbalanced Data with UnderSampling"
   ]
  },
  {
   "cell_type": "code",
   "execution_count": 252,
   "id": "c9e0c7e5",
   "metadata": {},
   "outputs": [
    {
     "data": {
      "text/plain": [
       "(4640, 21)"
      ]
     },
     "execution_count": 252,
     "metadata": {},
     "output_type": "execute_result"
    }
   ],
   "source": [
    "# split class\n",
    "loan_df = df[df['y'] == 1]\n",
    "notloan_df = df[df['y'] == 0]\n",
    "\n",
    "# random sample data \n",
    "notloan_df_sample = notloan_df.sample(random_state= 78, n= 4640)\n",
    "\n",
    "notloan_df_sample.shape"
   ]
  },
  {
   "cell_type": "code",
   "execution_count": 253,
   "id": "3076bbf0",
   "metadata": {},
   "outputs": [
    {
     "data": {
      "text/plain": [
       "0    4640\n",
       "1    4640\n",
       "Name: y, dtype: int64"
      ]
     },
     "execution_count": 253,
     "metadata": {},
     "output_type": "execute_result"
    }
   ],
   "source": [
    "# concat to new data\n",
    "\n",
    "new_df = pd.concat([notloan_df_sample, loan_df], axis=0)\n",
    "new_df.y.value_counts()"
   ]
  },
  {
   "cell_type": "code",
   "execution_count": 266,
   "id": "627eb349",
   "metadata": {},
   "outputs": [
    {
     "data": {
      "text/plain": [
       "(41188, 21)"
      ]
     },
     "execution_count": 266,
     "metadata": {},
     "output_type": "execute_result"
    }
   ],
   "source": [
    "df.shape"
   ]
  },
  {
   "cell_type": "markdown",
   "id": "79ea0fe0",
   "metadata": {},
   "source": [
    "### Preprocessing categoric data"
   ]
  },
  {
   "cell_type": "code",
   "execution_count": 267,
   "id": "a2293291",
   "metadata": {},
   "outputs": [],
   "source": [
    "cat_vars = ['job', 'marital', 'education', 'default', 'housing', \n",
    "            'loan', 'contact','month', 'day_of_week', 'poutcome']\n",
    "\n",
    "for var in cat_vars:\n",
    "    cat_list = pd.get_dummies(df[var], prefix=var)\n",
    "    data1 = df.join(cat_list)\n",
    "    df = data1.copy()"
   ]
  },
  {
   "cell_type": "code",
   "execution_count": 268,
   "id": "a3cc371a",
   "metadata": {},
   "outputs": [
    {
     "name": "stdout",
     "output_type": "stream",
     "text": [
      "<class 'pandas.core.frame.DataFrame'>\n",
      "RangeIndex: 41188 entries, 0 to 41187\n",
      "Data columns (total 74 columns):\n",
      " #   Column                         Non-Null Count  Dtype  \n",
      "---  ------                         --------------  -----  \n",
      " 0   age                            41188 non-null  int64  \n",
      " 1   job                            41188 non-null  object \n",
      " 2   marital                        41188 non-null  object \n",
      " 3   education                      41188 non-null  object \n",
      " 4   default                        41188 non-null  object \n",
      " 5   housing                        41188 non-null  object \n",
      " 6   loan                           41188 non-null  object \n",
      " 7   contact                        41188 non-null  object \n",
      " 8   month                          41188 non-null  object \n",
      " 9   day_of_week                    41188 non-null  object \n",
      " 10  duration                       41188 non-null  int64  \n",
      " 11  campaign                       41188 non-null  int64  \n",
      " 12  pdays                          41188 non-null  int64  \n",
      " 13  previous                       41188 non-null  int64  \n",
      " 14  poutcome                       41188 non-null  object \n",
      " 15  emp_var_rate                   41188 non-null  float64\n",
      " 16  cons_price_idx                 41188 non-null  float64\n",
      " 17  cons_conf_idx                  41188 non-null  float64\n",
      " 18  euribor3m                      41188 non-null  float64\n",
      " 19  nr_employed                    41188 non-null  float64\n",
      " 20  y                              41188 non-null  int64  \n",
      " 21  job_admin.                     41188 non-null  uint8  \n",
      " 22  job_blue-collar                41188 non-null  uint8  \n",
      " 23  job_entrepreneur               41188 non-null  uint8  \n",
      " 24  job_housemaid                  41188 non-null  uint8  \n",
      " 25  job_management                 41188 non-null  uint8  \n",
      " 26  job_retired                    41188 non-null  uint8  \n",
      " 27  job_self-employed              41188 non-null  uint8  \n",
      " 28  job_services                   41188 non-null  uint8  \n",
      " 29  job_student                    41188 non-null  uint8  \n",
      " 30  job_technician                 41188 non-null  uint8  \n",
      " 31  job_unemployed                 41188 non-null  uint8  \n",
      " 32  job_unknown                    41188 non-null  uint8  \n",
      " 33  marital_divorced               41188 non-null  uint8  \n",
      " 34  marital_married                41188 non-null  uint8  \n",
      " 35  marital_single                 41188 non-null  uint8  \n",
      " 36  marital_unknown                41188 non-null  uint8  \n",
      " 37  education_basic.4y             41188 non-null  uint8  \n",
      " 38  education_basic.6y             41188 non-null  uint8  \n",
      " 39  education_basic.9y             41188 non-null  uint8  \n",
      " 40  education_high.school          41188 non-null  uint8  \n",
      " 41  education_illiterate           41188 non-null  uint8  \n",
      " 42  education_professional.course  41188 non-null  uint8  \n",
      " 43  education_university.degree    41188 non-null  uint8  \n",
      " 44  education_unknown              41188 non-null  uint8  \n",
      " 45  default_no                     41188 non-null  uint8  \n",
      " 46  default_unknown                41188 non-null  uint8  \n",
      " 47  default_yes                    41188 non-null  uint8  \n",
      " 48  housing_no                     41188 non-null  uint8  \n",
      " 49  housing_unknown                41188 non-null  uint8  \n",
      " 50  housing_yes                    41188 non-null  uint8  \n",
      " 51  loan_no                        41188 non-null  uint8  \n",
      " 52  loan_unknown                   41188 non-null  uint8  \n",
      " 53  loan_yes                       41188 non-null  uint8  \n",
      " 54  contact_cellular               41188 non-null  uint8  \n",
      " 55  contact_telephone              41188 non-null  uint8  \n",
      " 56  month_apr                      41188 non-null  uint8  \n",
      " 57  month_aug                      41188 non-null  uint8  \n",
      " 58  month_dec                      41188 non-null  uint8  \n",
      " 59  month_jul                      41188 non-null  uint8  \n",
      " 60  month_jun                      41188 non-null  uint8  \n",
      " 61  month_mar                      41188 non-null  uint8  \n",
      " 62  month_may                      41188 non-null  uint8  \n",
      " 63  month_nov                      41188 non-null  uint8  \n",
      " 64  month_oct                      41188 non-null  uint8  \n",
      " 65  month_sep                      41188 non-null  uint8  \n",
      " 66  day_of_week_fri                41188 non-null  uint8  \n",
      " 67  day_of_week_mon                41188 non-null  uint8  \n",
      " 68  day_of_week_thu                41188 non-null  uint8  \n",
      " 69  day_of_week_tue                41188 non-null  uint8  \n",
      " 70  day_of_week_wed                41188 non-null  uint8  \n",
      " 71  poutcome_failure               41188 non-null  uint8  \n",
      " 72  poutcome_nonexistent           41188 non-null  uint8  \n",
      " 73  poutcome_success               41188 non-null  uint8  \n",
      "dtypes: float64(5), int64(6), object(10), uint8(53)\n",
      "memory usage: 8.7+ MB\n"
     ]
    }
   ],
   "source": [
    "df.info()"
   ]
  },
  {
   "cell_type": "code",
   "execution_count": 271,
   "id": "1f7a4da3",
   "metadata": {},
   "outputs": [],
   "source": [
    "# remove categorical data\n",
    "cat_vars = ['job', 'marital', 'education', 'default', 'housing', 'loan', 'contact', 'month', 'day_of_week', 'poutcome']\n",
    "data_vars = df.columns.values.tolist()\n",
    "to_keep = [i for i in data_vars if i not in cat_vars] # filter process"
   ]
  },
  {
   "cell_type": "code",
   "execution_count": 273,
   "id": "fc3fb30d",
   "metadata": {},
   "outputs": [
    {
     "data": {
      "text/plain": [
       "(41188, 64)"
      ]
     },
     "execution_count": 273,
     "metadata": {},
     "output_type": "execute_result"
    }
   ],
   "source": [
    "new_df2 = df[to_keep]\n",
    "new_df2.shape"
   ]
  },
  {
   "cell_type": "markdown",
   "id": "09522156",
   "metadata": {},
   "source": [
    "### Split data"
   ]
  },
  {
   "cell_type": "code",
   "execution_count": 274,
   "id": "cece4358",
   "metadata": {},
   "outputs": [],
   "source": [
    "X = new_df2.drop('y', axis=1)\n",
    "y = new_df2['y']\n",
    "\n",
    "from sklearn.model_selection import train_test_split\n",
    "X_train, X_test, y_train, y_test = train_test_split(X, y, test_size=0.3, random_state=0)"
   ]
  },
  {
   "cell_type": "code",
   "execution_count": 275,
   "id": "060c4e69",
   "metadata": {},
   "outputs": [
    {
     "name": "stdout",
     "output_type": "stream",
     "text": [
      "Total Training data : 28831\n",
      "Total Testing data : 12357\n"
     ]
    }
   ],
   "source": [
    "print(f'Total Training data : {X_train.shape[0]}')\n",
    "print(f'Total Testing data : {X_test.shape[0]}')"
   ]
  },
  {
   "cell_type": "markdown",
   "id": "25abc51e",
   "metadata": {},
   "source": [
    "### Normalization"
   ]
  },
  {
   "cell_type": "markdown",
   "id": "f2c3eb68",
   "metadata": {},
   "source": [
    "## Modeling"
   ]
  },
  {
   "cell_type": "code",
   "execution_count": 276,
   "id": "675cf7ce",
   "metadata": {},
   "outputs": [
    {
     "data": {
      "text/plain": [
       "RandomForestClassifier()"
      ]
     },
     "execution_count": 276,
     "metadata": {},
     "output_type": "execute_result"
    }
   ],
   "source": [
    "from sklearn.ensemble import RandomForestClassifier\n",
    "\n",
    "rf_clf = RandomForestClassifier()\n",
    "rf_clf.fit(X_train, y_train)"
   ]
  },
  {
   "cell_type": "code",
   "execution_count": 277,
   "id": "0982a4e2",
   "metadata": {},
   "outputs": [],
   "source": [
    "# Function Evaluate score (accuracy)\n",
    "def evaluate_model(model_dict):\n",
    "    frame = pd.DataFrame(columns=['Training','Testing'], index=col_name)\n",
    "    \n",
    "    for name, model in model_dict.items():\n",
    "        frame.loc[name, 'Training'] = model.score(X_train, y_train)\n",
    "        frame.loc[name, 'Testing'] = model.score(X_test, y_test)\n",
    "        \n",
    "    return frame"
   ]
  },
  {
   "cell_type": "code",
   "execution_count": 278,
   "id": "bfcee628",
   "metadata": {},
   "outputs": [
    {
     "data": {
      "text/html": [
       "<div>\n",
       "<style scoped>\n",
       "    .dataframe tbody tr th:only-of-type {\n",
       "        vertical-align: middle;\n",
       "    }\n",
       "\n",
       "    .dataframe tbody tr th {\n",
       "        vertical-align: top;\n",
       "    }\n",
       "\n",
       "    .dataframe thead th {\n",
       "        text-align: right;\n",
       "    }\n",
       "</style>\n",
       "<table border=\"1\" class=\"dataframe\">\n",
       "  <thead>\n",
       "    <tr style=\"text-align: right;\">\n",
       "      <th></th>\n",
       "      <th>Training</th>\n",
       "      <th>Testing</th>\n",
       "    </tr>\n",
       "  </thead>\n",
       "  <tbody>\n",
       "    <tr>\n",
       "      <th>Random Forest</th>\n",
       "      <td>1.0</td>\n",
       "      <td>0.913571</td>\n",
       "    </tr>\n",
       "  </tbody>\n",
       "</table>\n",
       "</div>"
      ],
      "text/plain": [
       "              Training   Testing\n",
       "Random Forest      1.0  0.913571"
      ]
     },
     "execution_count": 278,
     "metadata": {},
     "output_type": "execute_result"
    }
   ],
   "source": [
    "model_dict = {'Random Forest': rf_clf}\n",
    "\n",
    "evaluate_model(model_dict)"
   ]
  },
  {
   "cell_type": "markdown",
   "id": "ad25fe49",
   "metadata": {},
   "source": [
    "### Evaluate"
   ]
  },
  {
   "cell_type": "code",
   "execution_count": 279,
   "id": "bad55a80",
   "metadata": {},
   "outputs": [],
   "source": [
    "from sklearn.metrics import confusion_matrix, classification_report"
   ]
  },
  {
   "cell_type": "code",
   "execution_count": 280,
   "id": "057926ee",
   "metadata": {},
   "outputs": [
    {
     "name": "stdout",
     "output_type": "stream",
     "text": [
      "RANDOM FOREST TRAINING RESULT:\n",
      "======================================================\n",
      "Accuracy: 1.0\n",
      "======================================================\n",
      "Classification Report --------------------------------\n",
      "              precision    recall  f1-score   support\n",
      "\n",
      "           0       1.00      1.00      1.00     25567\n",
      "           1       1.00      1.00      1.00      3264\n",
      "\n",
      "    accuracy                           1.00     28831\n",
      "   macro avg       1.00      1.00      1.00     28831\n",
      "weighted avg       1.00      1.00      1.00     28831\n",
      "\n",
      "======================================================\n",
      "Confussion Matrix ------------------------------------\n",
      "[[25567     0]\n",
      " [    0  3264]]\n",
      "\n",
      "======================================================\n",
      "\n",
      " RANDOM FOREST TESTING RESULT:\n",
      "======================================================\n",
      "Accuracy: 0.9135712551590192\n",
      "======================================================\n",
      "Classification Report --------------------------------\n",
      "              precision    recall  f1-score   support\n",
      "\n",
      "           0       0.93      0.97      0.95     10981\n",
      "           1       0.66      0.46      0.54      1376\n",
      "\n",
      "    accuracy                           0.91     12357\n",
      "   macro avg       0.80      0.71      0.75     12357\n",
      "weighted avg       0.90      0.91      0.91     12357\n",
      "\n",
      "======================================================\n",
      "Confussion Matrix ------------------------------------\n",
      "[[10661   320]\n",
      " [  748   628]]\n"
     ]
    }
   ],
   "source": [
    "y_train_pred = rf_clf.predict(X_train)\n",
    "y_test_pred = rf_clf.predict(X_test)\n",
    "\n",
    "print('RANDOM FOREST TRAINING RESULT:')\n",
    "print('======================================================')\n",
    "print('Accuracy:', rf_clf.score(X_train, y_train))\n",
    "print('======================================================')\n",
    "print('Classification Report --------------------------------')\n",
    "print(classification_report(y_train, y_train_pred))\n",
    "print('======================================================')\n",
    "print('Confussion Matrix ------------------------------------')\n",
    "print(confusion_matrix(y_train, y_train_pred))\n",
    "\n",
    "print('\\n======================================================')\n",
    "\n",
    "print('\\n RANDOM FOREST TESTING RESULT:')\n",
    "print('======================================================')\n",
    "print('Accuracy:', rf_clf.score(X_test, y_test))\n",
    "print('======================================================')\n",
    "print('Classification Report --------------------------------')\n",
    "print(classification_report(y_test, y_test_pred))\n",
    "print('======================================================')\n",
    "print('Confussion Matrix ------------------------------------')\n",
    "print(confusion_matrix(y_test, y_test_pred))"
   ]
  },
  {
   "cell_type": "markdown",
   "id": "e60a88e3",
   "metadata": {},
   "source": [
    "### Check Confusion Matrix"
   ]
  },
  {
   "cell_type": "code",
   "execution_count": 282,
   "id": "aca055f7",
   "metadata": {},
   "outputs": [
    {
     "data": {
      "text/plain": [
       "<module 'matplotlib.pyplot' from 'C:\\\\Users\\\\USER\\\\anaconda3\\\\lib\\\\site-packages\\\\matplotlib\\\\pyplot.py'>"
      ]
     },
     "execution_count": 282,
     "metadata": {},
     "output_type": "execute_result"
    },
    {
     "data": {
      "image/png": "[encoded data removed]",
      "text/plain": [
       "<Figure size 720x576 with 2 Axes>"
      ]
     },
     "metadata": {},
     "output_type": "display_data"
    }
   ],
   "source": [
    "y_pred = rf_clf.predict(X_test)\n",
    "cf_matrix = confusion_matrix(y_test, y_pred)\n",
    "\n",
    "group_names = [\"True Negative\", \"False Positive\", \"False Negative\", \"True Positive\"]\n",
    "group_counts = [\"{0:0.0f}\".format(value) for value in cf_matrix.flatten()]\n",
    "group_percentages = [\"{0:.2%}\".format(value) for value in cf_matrix.flatten()/np.sum(cf_matrix)]\n",
    "\n",
    "labels = [f\"{v1}\\n{v2}\\n{v3}\" for v1, v2, v3 in zip(group_names,group_counts,group_percentages)]\n",
    "labels = np.asarray(labels).reshape(2,2)\n",
    "\n",
    "plt.figure(figsize=(10, 8))\n",
    "sns.heatmap(cf_matrix, annot=labels, fmt='', cmap='Blues')\n",
    "plt.show()"
   ]
  },
  {
   "cell_type": "markdown",
   "id": "c1ab3a46",
   "metadata": {},
   "source": [
    "### Check Importance Score"
   ]
  },
  {
   "cell_type": "code",
   "execution_count": 286,
   "id": "ee9f9965",
   "metadata": {},
   "outputs": [
    {
     "data": {
      "image/png": "[encoded data removed]",
      "text/plain": [
       "<Figure size 1080x720 with 1 Axes>"
      ]
     },
     "metadata": {},
     "output_type": "display_data"
    }
   ],
   "source": [
    "X_ = np.array(X)\n",
    "importance_scores = rf_clf.feature_importances_\n",
    "indices = np.argsort(importance_scores)\n",
    "\n",
    "plt.figure(figsize=(15, 10))\n",
    "feature_importances = pd.Series(rf_clf.feature_importances_, index=[X])\n",
    "feature_importances.nlargest(20).sort_values(ascending=True).plot(kind='barh')\n",
    "plt.title('Feature Importance')\n",
    "plt.show()"
   ]
  },
  {
   "cell_type": "markdown",
   "id": "f2cbfed3",
   "metadata": {},
   "source": [
    "### Model Interpretation"
   ]
  },
  {
   "cell_type": "code",
   "execution_count": 288,
   "id": "bf68ed36",
   "metadata": {},
   "outputs": [
    {
     "name": "stdout",
     "output_type": "stream",
     "text": [
      "Collecting shap\n",
      "  Downloading shap-0.40.0-cp38-cp38-win_amd64.whl (431 kB)\n",
      "Requirement already satisfied: numpy in c:\\users\\user\\anaconda3\\lib\\site-packages (from shap) (1.20.1)\n",
      "Requirement already satisfied: tqdm>4.25.0 in c:\\users\\user\\anaconda3\\lib\\site-packages (from shap) (4.59.0)\n",
      "Requirement already satisfied: cloudpickle in c:\\users\\user\\anaconda3\\lib\\site-packages (from shap) (1.6.0)\n",
      "Requirement already satisfied: scipy in c:\\users\\user\\anaconda3\\lib\\site-packages (from shap) (1.6.2)\n",
      "Collecting packaging>20.9\n",
      "  Downloading packaging-21.2-py3-none-any.whl (40 kB)\n",
      "Requirement already satisfied: pandas in c:\\users\\user\\anaconda3\\lib\\site-packages (from shap) (1.2.4)\n",
      "Collecting slicer==0.0.7\n",
      "  Downloading slicer-0.0.7-py3-none-any.whl (14 kB)\n",
      "Requirement already satisfied: scikit-learn in c:\\users\\user\\anaconda3\\lib\\site-packages (from shap) (0.24.1)\n",
      "Requirement already satisfied: numba in c:\\users\\user\\anaconda3\\lib\\site-packages (from shap) (0.53.1)\n",
      "Requirement already satisfied: pyparsing<3,>=2.0.2 in c:\\users\\user\\anaconda3\\lib\\site-packages (from packaging>20.9->shap) (2.4.7)\n",
      "Requirement already satisfied: llvmlite<0.37,>=0.36.0rc1 in c:\\users\\user\\anaconda3\\lib\\site-packages (from numba->shap) (0.36.0)\n",
      "Requirement already satisfied: setuptools in c:\\users\\user\\anaconda3\\lib\\site-packages (from numba->shap) (52.0.0.post20210125)\n",
      "Requirement already satisfied: pytz>=2017.3 in c:\\users\\user\\anaconda3\\lib\\site-packages (from pandas->shap) (2021.1)\n",
      "Requirement already satisfied: python-dateutil>=2.7.3 in c:\\users\\user\\anaconda3\\lib\\site-packages (from pandas->shap) (2.8.1)\n",
      "Requirement already satisfied: six>=1.5 in c:\\users\\user\\anaconda3\\lib\\site-packages (from python-dateutil>=2.7.3->pandas->shap) (1.15.0)\n",
      "Requirement already satisfied: joblib>=0.11 in c:\\users\\user\\anaconda3\\lib\\site-packages (from scikit-learn->shap) (1.0.1)\n",
      "Requirement already satisfied: threadpoolctl>=2.0.0 in c:\\users\\user\\anaconda3\\lib\\site-packages (from scikit-learn->shap) (2.1.0)\n",
      "Installing collected packages: slicer, packaging, shap\n",
      "  Attempting uninstall: packaging\n",
      "    Found existing installation: packaging 20.9\n",
      "    Uninstalling packaging-20.9:\n",
      "      Successfully uninstalled packaging-20.9\n",
      "Successfully installed packaging-21.2 shap-0.40.0 slicer-0.0.7\n"
     ]
    }
   ],
   "source": [
    "! pip install shap"
   ]
  },
  {
   "cell_type": "code",
   "execution_count": null,
   "id": "790bd1c9",
   "metadata": {},
   "outputs": [],
   "source": [
    "import shap\n",
    "shap_values = shap.TreeExplainer(rf_clf).shap_values(X_train)\n",
    "shap.summary_plot(shap_values, X_train)"
   ]
  },
  {
   "cell_type": "markdown",
   "id": "2d91e9ce",
   "metadata": {},
   "source": [
    "### Dispaly Tree"
   ]
  },
  {
   "cell_type": "code",
   "execution_count": null,
   "id": "88c60933",
   "metadata": {},
   "outputs": [],
   "source": [
    "from sklearn.tree import export_graphviz\n",
    "\n",
    "estimator = rf_clf.estimators_[0] # choose only 1 decision tree\n",
    "export_graphviz(estimator, rounded=True, proportion=False, out_file='tree.dot', \n",
    "                feature_names=X_train.columns, precision=2, filled=True)"
   ]
  },
  {
   "cell_type": "code",
   "execution_count": null,
   "id": "9fb3f5f0",
   "metadata": {},
   "outputs": [],
   "source": [
    "from subprocess import call\n",
    "call(['dot', '-Tpng', 'tree.dot', '-o', 'tree.png', '-Gdpi=600'])\n",
    "\n",
    "from IPython.display import Image\n",
    "Image(filename = 'tree.png')"
   ]
  }
 ],
 "metadata": {
  "kernelspec": {
   "display_name": "Python 3",
   "language": "python",
   "name": "python3"
  },
  "language_info": {
   "codemirror_mode": {
    "name": "ipython",
    "version": 3
   },
   "file_extension": ".py",
   "mimetype": "text/x-python",
   "name": "python",
   "nbconvert_exporter": "python",
   "pygments_lexer": "ipython3",
   "version": "3.8.8"
  }
 },
 "nbformat": 4,
 "nbformat_minor": 5
}
